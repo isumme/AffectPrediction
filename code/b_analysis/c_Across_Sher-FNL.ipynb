{
 "cells": [
  {
   "cell_type": "code",
   "execution_count": 2,
   "id": "9ef653f7",
   "metadata": {},
   "outputs": [],
   "source": [
    "import numpy as np\n",
    "import pandas as pd\n",
    "import os\n",
    "from sklearn import svm\n",
    "from sklearn import metrics\n",
    "import scipy.io\n",
    "from scipy import stats\n",
    "import matplotlib.pyplot as plt\n",
    "from scipy import stats, linalg\n",
    "import warnings\n",
    "from sklearn.exceptions import ConvergenceWarning\n",
    "def conv_r2z(r):\n",
    "    with np.errstate(invalid='ignore', divide='ignore'):\n",
    "        return 0.5 * (np.log(1 + r) - np.log(1 - r))\n",
    "def conv_z2r(z):\n",
    "    with np.errstate(invalid='ignore', divide='ignore'):\n",
    "        return (np.exp(2 * z) - 1) / (np.exp(2 * z) + 1)\n",
    "%matplotlib inline"
   ]
  },
  {
   "cell_type": "markdown",
   "id": "0615791a",
   "metadata": {},
   "source": [
    "# Settings"
   ]
  },
  {
   "cell_type": "code",
   "execution_count": 3,
   "id": "521c3343",
   "metadata": {},
   "outputs": [
    {
     "name": "stdout",
     "output_type": "stream",
     "text": [
      "Across-dataset prediction\n",
      "  model learn from = sherlock win30\n",
      "  model testing    = FNL win23\n"
     ]
    }
   ],
   "source": [
    "dataset_learn = 'sherlock'\n",
    "dataset_test = 'FNL'\n",
    "\n",
    "base_path = os.path.dirname(os.path.dirname(os.getcwd()))\n",
    "path = base_path + '/data'\n",
    "thres = 0.01\n",
    "nR = 122\n",
    "\n",
    "learn_nsubj = 16\n",
    "learn_wsize = 30\n",
    "learn_nT = 1924\n",
    "\n",
    "test_nsubj = 35\n",
    "test_wsize = 23\n",
    "test_nT = 1336\n",
    "\n",
    "print('Across-dataset prediction')\n",
    "\n",
    "learn_wsize = learn_wsize\n",
    "test_wsize = test_wsize\n",
    "print('  model learn from = '+str(dataset_learn)+' win'+str(learn_wsize))\n",
    "print('  model testing    = '+str(dataset_test)+' win'+str(test_wsize))"
   ]
  },
  {
   "cell_type": "markdown",
   "id": "b1edaec7",
   "metadata": {},
   "source": [
    "# Load Behavioral Data"
   ]
  },
  {
   "cell_type": "code",
   "execution_count": 4,
   "id": "83775e12",
   "metadata": {},
   "outputs": [
    {
     "name": "stdout",
     "output_type": "stream",
     "text": [
      "model learn: valence shape(1894,)\n",
      "model learn: arousal shape(1894,)\n",
      "model test: valence shape(1341,)\n",
      "model test: arousal shape(1341,)\n"
     ]
    }
   ],
   "source": [
    "# load valence\n",
    "valence_learn = scipy.io.loadmat(path + '/beh/preprocessed/group_average/conv_slidingBeh/sherlock_valence.mat')['sliding_beh']\n",
    "valence_learn = np.squeeze(valence_learn)\n",
    "\n",
    "valence_test = scipy.io.loadmat(path + '/beh/preprocessed/group_average/conv_slidingBeh/FNL_valence.mat')['sliding_beh']\n",
    "valence_test = np.squeeze(valence_test)\n",
    "\n",
    "# load arousal\n",
    "arousal_learn = scipy.io.loadmat(path + '/beh/preprocessed/group_average/conv_slidingBeh/sherlock_arousal.mat')['sliding_beh']\n",
    "arousal_learn = np.squeeze(arousal_learn)\n",
    "\n",
    "arousal_test = scipy.io.loadmat(path + '/beh/preprocessed/group_average/conv_slidingBeh/FNL_arousal.mat')['sliding_beh']\n",
    "arousal_test = np.squeeze(arousal_test)\n",
    "\n",
    "print('model learn: valence shape' + str(valence_learn.shape))\n",
    "print('model learn: arousal shape' + str(arousal_learn.shape))\n",
    "\n",
    "print('model test: valence shape' + str(valence_test.shape))\n",
    "print('model test: arousal shape' + str(arousal_test.shape))"
   ]
  },
  {
   "cell_type": "markdown",
   "id": "56de9007",
   "metadata": {},
   "source": [
    "# Load Brain Data"
   ]
  },
  {
   "cell_type": "code",
   "execution_count": 5,
   "id": "ebc0eac9",
   "metadata": {},
   "outputs": [
    {
     "name": "stdout",
     "output_type": "stream",
     "text": [
      "  model learn: brain entire feature shape (16, 7381, 1894)\n",
      "  model test: brain entire feature shape (35, 7381, 1341)\n"
     ]
    }
   ],
   "source": [
    "import mat73\n",
    "\n",
    "# Load Sherlock\n",
    "dynFC_learn = mat73.loadmat(path + '/brain/' + dataset_learn + '/a_output/FC/sliding-dynFeat.mat')['dynFeat']\n",
    "# zscore per feature\n",
    "dynFC_learn = scipy.stats.zscore(dynFC_learn,2,nan_policy='omit') \n",
    "print('  model learn: brain entire feature shape '+str(dynFC_learn.shape))\n",
    "\n",
    "# Load FNL\n",
    "dynFC_test = mat73.loadmat(path + '/brain/' + dataset_test + '/a_output/FC/sliding-dynFeat.mat')['dynFeat']\n",
    "# zscore per feature\n",
    "dynFC_test = scipy.stats.zscore(dynFC_test,2,nan_policy='omit') \n",
    "print('  model test: brain entire feature shape '+str(dynFC_test.shape))"
   ]
  },
  {
   "cell_type": "markdown",
   "id": "96e0f73d",
   "metadata": {},
   "source": [
    "# Valence"
   ]
  },
  {
   "cell_type": "code",
   "execution_count": 7,
   "id": "b403c4c1",
   "metadata": {},
   "outputs": [
    {
     "name": "stdout",
     "output_type": "stream",
     "text": [
      " #pos = 493 , #neg = 31\n"
     ]
    }
   ],
   "source": [
    "filepath = base_path + '/results/CPM/within/sherlock/sliding_valence.mat'\n",
    "pos_feat = scipy.io.loadmat(filepath)['pos_feat']\n",
    "neg_feat = scipy.io.loadmat(filepath)['neg_feat']\n",
    "pos_feat, neg_feat = np.average(pos_feat,0), np.average(neg_feat,0)\n",
    "for i1 in range(nR):\n",
    "    for i2 in range(nR):\n",
    "        if pos_feat[i1,i2]<1:\n",
    "            pos_feat[i1,i2]=0\n",
    "        if neg_feat[i1,i2]<1:\n",
    "            neg_feat[i1,i2]=0\n",
    "print(' #pos = '+str(int(np.sum(pos_feat)/2)), ', #neg = '+str(int(np.sum(neg_feat)/2)))\n",
    "all_feat = pos_feat+neg_feat\n",
    "featid = []\n",
    "ii = -1\n",
    "for i1 in range(nR-1):\n",
    "    for i2 in range(i1+1,nR):\n",
    "        ii=ii+1\n",
    "        if all_feat[i1,i2]==1:\n",
    "            featid.append(ii)"
   ]
  },
  {
   "cell_type": "code",
   "execution_count": 8,
   "id": "2d579319",
   "metadata": {},
   "outputs": [
    {
     "name": "stdout",
     "output_type": "stream",
     "text": [
      "  model learn: brain selected feature shape (16, 524, 1894)\n",
      "  model test : brain selected feature shape (35, 524, 1341)\n"
     ]
    }
   ],
   "source": [
    "dynFC_learn = dynFC_learn[:,featid,:]\n",
    "dynFC_test = dynFC_test[:,featid,:]\n",
    "print('  model learn: brain selected feature shape '+str(dynFC_learn.shape))\n",
    "print('  model test : brain selected feature shape '+str(dynFC_test.shape))"
   ]
  },
  {
   "cell_type": "code",
   "execution_count": 9,
   "id": "0a5fc35e",
   "metadata": {},
   "outputs": [],
   "source": [
    "train_feat = np.transpose(dynFC_learn,(1,0,2))\n",
    "train_feat = np.reshape(train_feat,(train_feat.shape[0],train_feat.shape[1]*train_feat.shape[2]))\n",
    "\n",
    "train_valence = []\n",
    "for sub in range(learn_nsubj):\n",
    "    train_valence.append(valence_learn)\n",
    "train_valence = np.asarray(train_valence)\n",
    "train_valence = np.reshape(train_valence, (train_valence.shape[0])*train_valence.shape[1])\n",
    "\n",
    "# if several TRs are removed\n",
    "rmtr_train = []\n",
    "for tm in range(train_feat.shape[1]):\n",
    "    if np.all(np.isnan(train_feat[:,tm])):\n",
    "        rmtr_train.append(tm)\n",
    "rmtr_train = np.asarray(rmtr_train)\n",
    "if len(rmtr_train)>0:\n",
    "    train_feat = np.delete(train_feat,rmtr_train,1)\n",
    "    train_valence = np.delete(train_valence,rmtr_train,0)"
   ]
  },
  {
   "cell_type": "code",
   "execution_count": 10,
   "id": "2cb052ed",
   "metadata": {},
   "outputs": [
    {
     "name": "stdout",
     "output_type": "stream",
     "text": [
      "NaN = []\n"
     ]
    }
   ],
   "source": [
    "nanidx = []\n",
    "for ft in range(train_feat.shape[0]):\n",
    "    if np.any(np.isnan(train_feat[ft,:])):\n",
    "        nanidx.append(ft)\n",
    "for subj in range(dynFC_test.shape[0]):\n",
    "    for ft in range(dynFC_test.shape[1]):\n",
    "        if np.any(np.isnan(dynFC_test[subj,ft,:])):\n",
    "            nanidx.append(ft)\n",
    "\n",
    "nanidx = np.unique(nanidx)\n",
    "print('NaN = '+str(nanidx))\n",
    "\n",
    "if len(nanidx)>0:\n",
    "    train_feat = np.delete(train_feat,nanidx,0)\n",
    "    dynFC_test = np.delete(dynFC_test,nanidx,1)"
   ]
  },
  {
   "cell_type": "markdown",
   "id": "affe1863",
   "metadata": {},
   "source": [
    "# Support Vector Regression with non-linear Kernel"
   ]
  },
  {
   "cell_type": "code",
   "execution_count": 11,
   "id": "8c998227",
   "metadata": {},
   "outputs": [
    {
     "name": "stdout",
     "output_type": "stream",
     "text": [
      "SVR prediction with model learned from sherlock\n",
      "  train feature   : (30304, 524)\n",
      "  train valence: (30304,)\n",
      "Training done!\n"
     ]
    }
   ],
   "source": [
    "print('SVR prediction with model learned from '+str(dataset_learn))\n",
    "print('  train feature   : '+str(train_feat.T.shape))\n",
    "print('  train valence: '+str(train_valence.shape))\n",
    "\n",
    "clf = []\n",
    "clf = svm.SVR(kernel='rbf',max_iter=1000, gamma='auto')\n",
    "with warnings.catch_warnings():\n",
    "    warnings.filterwarnings(\"ignore\", category=ConvergenceWarning)\n",
    "    clf.fit(train_feat.T, train_valence)\n",
    "print('Training done!')"
   ]
  },
  {
   "cell_type": "code",
   "execution_count": 12,
   "id": "c2acca59",
   "metadata": {},
   "outputs": [
    {
     "name": "stdout",
     "output_type": "stream",
     "text": [
      " subj 1 / 35: pearson r=-0.004 , mse=1.205, rsq=-0.206\n",
      "              (train) ft 30304, beh 30304, (test) ft 1341, beh 1341\n",
      " subj 2 / 35: pearson r=-0.013 , mse=1.166, rsq=-0.167\n",
      "              (train) ft 30304, beh 30304, (test) ft 1341, beh 1341\n",
      " subj 3 / 35: pearson r=-0.184 , mse=1.319, rsq=-0.32\n",
      "              (train) ft 30304, beh 30304, (test) ft 1341, beh 1341\n",
      " subj 4 / 35: pearson r=-0.164 , mse=1.422, rsq=-0.423\n",
      "              (train) ft 30304, beh 30304, (test) ft 1341, beh 1341\n",
      " subj 5 / 35: pearson r=0.029 , mse=1.159, rsq=-0.16\n",
      "              (train) ft 30304, beh 30304, (test) ft 1341, beh 1341\n",
      " subj 6 / 35: pearson r=-0.01 , mse=1.247, rsq=-0.248\n",
      "              (train) ft 30304, beh 30304, (test) ft 1341, beh 1341\n",
      " subj 7 / 35: pearson r=0.074 , mse=1.14, rsq=-0.141\n",
      "              (train) ft 30304, beh 30304, (test) ft 1341, beh 1341\n",
      " subj 8 / 35: pearson r=0.012 , mse=1.15, rsq=-0.151\n",
      "              (train) ft 30304, beh 30304, (test) ft 1341, beh 1341\n",
      " subj 9 / 35: pearson r=-0.16 , mse=1.368, rsq=-0.369\n",
      "              (train) ft 30304, beh 30304, (test) ft 1341, beh 1341\n",
      " subj 10 / 35: pearson r=0.116 , mse=1.054, rsq=-0.055\n",
      "              (train) ft 30304, beh 30304, (test) ft 1341, beh 1341\n",
      " subj 11 / 35: pearson r=-0.098 , mse=1.27, rsq=-0.271\n",
      "              (train) ft 30304, beh 30304, (test) ft 1341, beh 1341\n",
      " subj 12 / 35: pearson r=-0.289 , mse=1.387, rsq=-0.388\n",
      "              (train) ft 30304, beh 30304, (test) ft 1341, beh 1341\n",
      " subj 13 / 35: pearson r=-0.143 , mse=1.242, rsq=-0.243\n",
      "              (train) ft 30304, beh 30304, (test) ft 1341, beh 1341\n",
      " subj 14 / 35: pearson r=-0.073 , mse=1.138, rsq=-0.139\n",
      "              (train) ft 30304, beh 30304, (test) ft 1341, beh 1341\n",
      " subj 15 / 35: pearson r=0.071 , mse=1.079, rsq=-0.079\n",
      "              (train) ft 30304, beh 30304, (test) ft 1341, beh 1341\n",
      " subj 16 / 35: pearson r=0.014 , mse=1.1, rsq=-0.101\n",
      "              (train) ft 30304, beh 30304, (test) ft 1341, beh 1341\n",
      " subj 17 / 35: pearson r=-0.083 , mse=1.271, rsq=-0.272\n",
      "              (train) ft 30304, beh 30304, (test) ft 1341, beh 1341\n",
      " subj 18 / 35: pearson r=0.167 , mse=1.052, rsq=-0.053\n",
      "              (train) ft 30304, beh 30304, (test) ft 1341, beh 1341\n",
      " subj 19 / 35: pearson r=-0.115 , mse=1.218, rsq=-0.219\n",
      "              (train) ft 30304, beh 30304, (test) ft 1341, beh 1341\n",
      " subj 20 / 35: pearson r=0.104 , mse=1.05, rsq=-0.051\n",
      "              (train) ft 30304, beh 30304, (test) ft 1341, beh 1341\n",
      " subj 21 / 35: pearson r=-0.106 , mse=1.221, rsq=-0.222\n",
      "              (train) ft 30304, beh 30304, (test) ft 1341, beh 1341\n",
      " subj 22 / 35: pearson r=-0.137 , mse=1.245, rsq=-0.246\n",
      "              (train) ft 30304, beh 30304, (test) ft 1341, beh 1341\n",
      " subj 23 / 35: pearson r=-0.007 , mse=1.129, rsq=-0.13\n",
      "              (train) ft 30304, beh 30304, (test) ft 1341, beh 1341\n",
      " subj 24 / 35: pearson r=-0.096 , mse=1.239, rsq=-0.24\n",
      "              (train) ft 30304, beh 30304, (test) ft 1341, beh 1341\n",
      " subj 25 / 35: pearson r=0.038 , mse=1.128, rsq=-0.129\n",
      "              (train) ft 30304, beh 30304, (test) ft 1341, beh 1341\n",
      " subj 26 / 35: pearson r=0.115 , mse=1.1, rsq=-0.101\n",
      "              (train) ft 30304, beh 30304, (test) ft 1341, beh 1341\n",
      " subj 27 / 35: pearson r=0.103 , mse=1.088, rsq=-0.089\n",
      "              (train) ft 30304, beh 30304, (test) ft 1341, beh 1341\n",
      " subj 28 / 35: pearson r=-0.023 , mse=1.195, rsq=-0.196\n",
      "              (train) ft 30304, beh 30304, (test) ft 1341, beh 1341\n",
      " subj 29 / 35: pearson r=-0.197 , mse=1.366, rsq=-0.367\n",
      "              (train) ft 30304, beh 30304, (test) ft 1341, beh 1341\n",
      " subj 30 / 35: pearson r=-0.192 , mse=1.304, rsq=-0.305\n",
      "              (train) ft 30304, beh 30304, (test) ft 1341, beh 1341\n",
      " subj 31 / 35: pearson r=-0.132 , mse=1.214, rsq=-0.215\n",
      "              (train) ft 30304, beh 30304, (test) ft 1341, beh 1341\n",
      " subj 32 / 35: pearson r=-0.012 , mse=1.25, rsq=-0.251\n",
      "              (train) ft 30304, beh 30304, (test) ft 1341, beh 1341\n",
      " subj 33 / 35: pearson r=-0.16 , mse=1.346, rsq=-0.347\n",
      "              (train) ft 30304, beh 30304, (test) ft 1341, beh 1341\n",
      " subj 34 / 35: pearson r=0.128 , mse=1.089, rsq=-0.09\n",
      "              (train) ft 30304, beh 30304, (test) ft 1341, beh 1341\n",
      " subj 35 / 35: pearson r=0.016 , mse=1.182, rsq=-0.183\n",
      "              (train) ft 30304, beh 30304, (test) ft 1341, beh 1341\n"
     ]
    }
   ],
   "source": [
    "output_acc, output_eval = [], []\n",
    "for test_sub in range(test_nsubj):\n",
    "    test_feat = dynFC_test[test_sub, :, :]\n",
    "    test_behavior = valence_test\n",
    "    \n",
    "    rmtr_test = []\n",
    "    for tm in range(test_feat.shape[1]):\n",
    "        if np.all(np.isnan(test_feat[:, tm])):\n",
    "            rmtr_test.append(tm)\n",
    "    rmtr_test = np.asarray(rmtr_test)\n",
    "    if len(rmtr_test) > 0:\n",
    "        test_feat = np.delete(test_feat, rmtr_test, 1)\n",
    "        test_behavior = np.delete(test_behavior, rmtr_test, 0)\n",
    "    \n",
    "    predicted = clf.predict(test_feat.T)\n",
    "    output_acc.append(predicted)\n",
    "    \n",
    "    # evaluate\n",
    "    pearsonr = scipy.stats.pearsonr(test_behavior, predicted)\n",
    "    mse = metrics.mean_squared_error(test_behavior, predicted)\n",
    "    rsq = metrics.r2_score(test_behavior, predicted)\n",
    "    output_eval.append([pearsonr[0], mse, rsq])\n",
    "    \n",
    "    print(' subj ' + str(test_sub + 1) + ' / ' + str(test_nsubj) + ': pearson r=' + str(\n",
    "            np.round(pearsonr[0], 3)), ', mse=' + str(np.round(mse, 3)) + ', rsq=' + str(np.round(rsq, 3)))\n",
    "    print('              (train) ft ' + str(train_feat.shape[1]) + ', beh ' + str(train_valence.shape[0]) +\n",
    "              ', (test) ft ' + str(test_feat.shape[1]) + ', beh ' + str(test_behavior.shape[0]))\n",
    "    \n",
    "output_acc, output_eval = np.asarray(output_acc), np.asarray(output_eval)"
   ]
  },
  {
   "cell_type": "code",
   "execution_count": 13,
   "id": "1de8c796",
   "metadata": {},
   "outputs": [
    {
     "name": "stdout",
     "output_type": "stream",
     "text": [
      "Prediction result (mean of cross-validations): FNL\n",
      " pearson r = -0.041\n",
      " MSE       = 1.204\n",
      " r-squared = -0.205\n"
     ]
    },
    {
     "data": {
      "image/png": "[encoded data removed]",
      "text/plain": [
       "<Figure size 640x480 with 3 Axes>"
      ]
     },
     "metadata": {},
     "output_type": "display_data"
    }
   ],
   "source": [
    "fig, axs = plt.subplots(1,3)\n",
    "axs[0].hist(output_eval[:,0])\n",
    "axs[0].set_title('Pearson correlation')\n",
    "axs[1].hist(output_eval[:,1])\n",
    "axs[1].set_title('MSE')\n",
    "axs[2].hist(output_eval[:,2])\n",
    "axs[2].set_title('r-squared')\n",
    "\n",
    "print('Prediction result (mean of cross-validations): '+dataset_test)\n",
    "print(' pearson r = '+str(np.round(conv_z2r(np.mean(conv_r2z(output_eval[:,0]))),3)))\n",
    "print(' MSE       = '+str(np.round(np.mean(output_eval[:,1]),3)))\n",
    "print(' r-squared = '+str(np.round(np.mean(output_eval[:,2]),3)))"
   ]
  },
  {
   "cell_type": "markdown",
   "id": "4d073593",
   "metadata": {},
   "source": [
    "# Save Output"
   ]
  },
  {
   "cell_type": "code",
   "execution_count": 14,
   "id": "fe3e248d",
   "metadata": {},
   "outputs": [],
   "source": [
    "savepath = base_path + '/results/CPM/across/'\n",
    "result = {'acc':output_acc, 'eval':output_eval}\n",
    "if os.path.exists(savepath)==0:\n",
    "    os.makedirs(savepath)\n",
    "scipy.io.savemat(savepath+'/Sher-FNL_valence.mat',result)"
   ]
  },
  {
   "cell_type": "markdown",
   "id": "00598938",
   "metadata": {},
   "source": [
    "# Load Brain Data Again"
   ]
  },
  {
   "cell_type": "code",
   "execution_count": 15,
   "id": "602caeaf",
   "metadata": {},
   "outputs": [
    {
     "name": "stdout",
     "output_type": "stream",
     "text": [
      "  model learn: brain entire feature shape (16, 7381, 1894)\n",
      "  model test: brain entire feature shape (35, 7381, 1341)\n"
     ]
    }
   ],
   "source": [
    "import mat73\n",
    "\n",
    "# Load Sherlock\n",
    "dynFC_learn = mat73.loadmat(path + '/brain/' + dataset_learn + '/a_output/FC/sliding-dynFeat.mat')['dynFeat']\n",
    "# zscore per feature\n",
    "dynFC_learn = scipy.stats.zscore(dynFC_learn,2,nan_policy='omit') \n",
    "print('  model learn: brain entire feature shape '+str(dynFC_learn.shape))\n",
    "\n",
    "# Load FNL\n",
    "dynFC_test = mat73.loadmat(path + '/brain/' + dataset_test + '/a_output/FC/sliding-dynFeat.mat')['dynFeat']\n",
    "# zscore per feature\n",
    "dynFC_test = scipy.stats.zscore(dynFC_test,2,nan_policy='omit') \n",
    "print('  model test: brain entire feature shape '+str(dynFC_test.shape))"
   ]
  },
  {
   "cell_type": "markdown",
   "id": "c3467b12",
   "metadata": {},
   "source": [
    "# Arousal"
   ]
  },
  {
   "cell_type": "code",
   "execution_count": 6,
   "id": "e2b08ccc",
   "metadata": {},
   "outputs": [
    {
     "name": "stdout",
     "output_type": "stream",
     "text": [
      " #pos = 439 , #neg = 154\n"
     ]
    }
   ],
   "source": [
    "filepath = base_path + '/results/CPM/within/sherlock/sliding_arousal.mat'\n",
    "pos_feat = scipy.io.loadmat(filepath)['pos_feat']\n",
    "neg_feat = scipy.io.loadmat(filepath)['neg_feat']\n",
    "pos_feat, neg_feat = np.average(pos_feat,0), np.average(neg_feat,0)\n",
    "for i1 in range(nR):\n",
    "    for i2 in range(nR):\n",
    "        if pos_feat[i1,i2]<1:\n",
    "            pos_feat[i1,i2]=0\n",
    "        if neg_feat[i1,i2]<1:\n",
    "            neg_feat[i1,i2]=0\n",
    "print(' #pos = '+str(int(np.sum(pos_feat)/2)), ', #neg = '+str(int(np.sum(neg_feat)/2)))\n",
    "all_feat = pos_feat+neg_feat\n",
    "featid = []\n",
    "ii = -1\n",
    "for i1 in range(nR-1):\n",
    "    for i2 in range(i1+1,nR):\n",
    "        ii=ii+1\n",
    "        if all_feat[i1,i2]==1:\n",
    "            featid.append(ii)"
   ]
  },
  {
   "cell_type": "code",
   "execution_count": 7,
   "id": "61d5003a",
   "metadata": {},
   "outputs": [
    {
     "name": "stdout",
     "output_type": "stream",
     "text": [
      "  model learn: brain selected feature shape (16, 593, 1894)\n",
      "  model test : brain selected feature shape (35, 593, 1341)\n"
     ]
    }
   ],
   "source": [
    "dynFC_learn = dynFC_learn[:,featid,:]\n",
    "dynFC_test = dynFC_test[:,featid,:]\n",
    "print('  model learn: brain selected feature shape '+str(dynFC_learn.shape))\n",
    "print('  model test : brain selected feature shape '+str(dynFC_test.shape))"
   ]
  },
  {
   "cell_type": "code",
   "execution_count": 8,
   "id": "eba6387c",
   "metadata": {},
   "outputs": [],
   "source": [
    "train_feat = np.transpose(dynFC_learn,(1,0,2))\n",
    "train_feat = np.reshape(train_feat,(train_feat.shape[0],train_feat.shape[1]*train_feat.shape[2]))\n",
    "\n",
    "train_arousal = []\n",
    "for sub in range(learn_nsubj):\n",
    "    train_arousal.append(arousal_learn)\n",
    "train_arousal = np.asarray(train_arousal)\n",
    "train_arousal = np.reshape(train_arousal, (train_arousal.shape[0])*train_arousal.shape[1])\n",
    "\n",
    "# if several TRs are removed\n",
    "rmtr_train = []\n",
    "for tm in range(train_feat.shape[1]):\n",
    "    if np.all(np.isnan(train_feat[:,tm])):\n",
    "        rmtr_train.append(tm)\n",
    "rmtr_train = np.asarray(rmtr_train)\n",
    "if len(rmtr_train)>0:\n",
    "    train_feat = np.delete(train_feat,rmtr_train,1)\n",
    "    train_arousal = np.delete(train_arousal,rmtr_train,0)"
   ]
  },
  {
   "cell_type": "code",
   "execution_count": 9,
   "id": "bcf5fd55",
   "metadata": {},
   "outputs": [
    {
     "name": "stdout",
     "output_type": "stream",
     "text": [
      "NaN = []\n"
     ]
    }
   ],
   "source": [
    "nanidx = []\n",
    "for ft in range(train_feat.shape[0]):\n",
    "    if np.any(np.isnan(train_feat[ft,:])):\n",
    "        nanidx.append(ft)\n",
    "for subj in range(dynFC_test.shape[0]):\n",
    "    for ft in range(dynFC_test.shape[1]):\n",
    "        if np.any(np.isnan(dynFC_test[subj,ft,:])):\n",
    "            nanidx.append(ft)\n",
    "\n",
    "nanidx = np.unique(nanidx)\n",
    "print('NaN = '+str(nanidx))\n",
    "\n",
    "if len(nanidx)>0:\n",
    "    train_feat = np.delete(train_feat,nanidx,0)\n",
    "    dynFC_test = np.delete(dynFC_test,nanidx,1)"
   ]
  },
  {
   "cell_type": "markdown",
   "id": "d594d717",
   "metadata": {},
   "source": [
    "# Support Vector Regression with non-linear Kernel"
   ]
  },
  {
   "cell_type": "code",
   "execution_count": 10,
   "id": "3c80c078",
   "metadata": {},
   "outputs": [
    {
     "name": "stdout",
     "output_type": "stream",
     "text": [
      "SVR prediction with model learned from sherlock\n",
      "  train feature   : (30304, 593)\n",
      "  train arousal: (30304,)\n",
      "Training done!\n"
     ]
    }
   ],
   "source": [
    "print('SVR prediction with model learned from '+str(dataset_learn))\n",
    "print('  train feature   : '+str(train_feat.T.shape))\n",
    "print('  train arousal: '+str(train_arousal.shape))\n",
    "\n",
    "clf = []\n",
    "clf = svm.SVR(kernel='rbf',max_iter=1000, gamma='auto')\n",
    "with warnings.catch_warnings():\n",
    "    warnings.filterwarnings(\"ignore\", category=ConvergenceWarning)\n",
    "    clf.fit(train_feat.T, train_arousal)\n",
    "print('Training done!')"
   ]
  },
  {
   "cell_type": "code",
   "execution_count": 11,
   "id": "facab614",
   "metadata": {},
   "outputs": [
    {
     "name": "stdout",
     "output_type": "stream",
     "text": [
      " subj 1 / 35: pearson r=0.49 , mse=0.759, rsq=0.24\n",
      "              (train) ft 30304, beh 30304, (test) ft 1341, beh 1341\n",
      " subj 2 / 35: pearson r=0.229 , mse=1.007, rsq=-0.008\n",
      "              (train) ft 30304, beh 30304, (test) ft 1341, beh 1341\n",
      " subj 3 / 35: pearson r=0.348 , mse=0.894, rsq=0.105\n",
      "              (train) ft 30304, beh 30304, (test) ft 1341, beh 1341\n",
      " subj 4 / 35: pearson r=0.345 , mse=0.908, rsq=0.091\n",
      "              (train) ft 30304, beh 30304, (test) ft 1341, beh 1341\n",
      " subj 5 / 35: pearson r=0.369 , mse=0.868, rsq=0.132\n",
      "              (train) ft 30304, beh 30304, (test) ft 1341, beh 1341\n",
      " subj 6 / 35: pearson r=0.126 , mse=1.06, rsq=-0.061\n",
      "              (train) ft 30304, beh 30304, (test) ft 1341, beh 1341\n",
      " subj 7 / 35: pearson r=0.232 , mse=0.96, rsq=0.04\n",
      "              (train) ft 30304, beh 30304, (test) ft 1341, beh 1341\n",
      " subj 8 / 35: pearson r=0.198 , mse=0.999, rsq=-0.0\n",
      "              (train) ft 30304, beh 30304, (test) ft 1341, beh 1341\n",
      " subj 9 / 35: pearson r=0.002 , mse=1.236, rsq=-0.237\n",
      "              (train) ft 30304, beh 30304, (test) ft 1341, beh 1341\n",
      " subj 10 / 35: pearson r=0.364 , mse=0.87, rsq=0.129\n",
      "              (train) ft 30304, beh 30304, (test) ft 1341, beh 1341\n",
      " subj 11 / 35: pearson r=0.42 , mse=0.828, rsq=0.171\n",
      "              (train) ft 30304, beh 30304, (test) ft 1341, beh 1341\n",
      " subj 12 / 35: pearson r=0.167 , mse=1.058, rsq=-0.058\n",
      "              (train) ft 30304, beh 30304, (test) ft 1341, beh 1341\n",
      " subj 13 / 35: pearson r=-0.043 , mse=1.137, rsq=-0.138\n",
      "              (train) ft 30304, beh 30304, (test) ft 1341, beh 1341\n",
      " subj 14 / 35: pearson r=0.294 , mse=0.915, rsq=0.084\n",
      "              (train) ft 30304, beh 30304, (test) ft 1341, beh 1341\n",
      " subj 15 / 35: pearson r=0.383 , mse=0.857, rsq=0.142\n",
      "              (train) ft 30304, beh 30304, (test) ft 1341, beh 1341\n",
      " subj 16 / 35: pearson r=0.374 , mse=0.867, rsq=0.132\n",
      "              (train) ft 30304, beh 30304, (test) ft 1341, beh 1341\n",
      " subj 17 / 35: pearson r=0.165 , mse=1.051, rsq=-0.052\n",
      "              (train) ft 30304, beh 30304, (test) ft 1341, beh 1341\n",
      " subj 18 / 35: pearson r=0.135 , mse=1.055, rsq=-0.056\n",
      "              (train) ft 30304, beh 30304, (test) ft 1341, beh 1341\n",
      " subj 19 / 35: pearson r=0.156 , mse=1.017, rsq=-0.017\n",
      "              (train) ft 30304, beh 30304, (test) ft 1341, beh 1341\n",
      " subj 20 / 35: pearson r=0.385 , mse=0.861, rsq=0.139\n",
      "              (train) ft 30304, beh 30304, (test) ft 1341, beh 1341\n",
      " subj 21 / 35: pearson r=-0.066 , mse=1.193, rsq=-0.194\n",
      "              (train) ft 30304, beh 30304, (test) ft 1341, beh 1341\n",
      " subj 22 / 35: pearson r=0.564 , mse=0.699, rsq=0.3\n",
      "              (train) ft 30304, beh 30304, (test) ft 1341, beh 1341\n",
      " subj 23 / 35: pearson r=0.522 , mse=0.737, rsq=0.263\n",
      "              (train) ft 30304, beh 30304, (test) ft 1341, beh 1341\n",
      " subj 24 / 35: pearson r=0.399 , mse=0.843, rsq=0.156\n",
      "              (train) ft 30304, beh 30304, (test) ft 1341, beh 1341\n",
      " subj 25 / 35: pearson r=0.321 , mse=0.9, rsq=0.1\n",
      "              (train) ft 30304, beh 30304, (test) ft 1341, beh 1341\n",
      " subj 26 / 35: pearson r=0.124 , mse=1.067, rsq=-0.067\n",
      "              (train) ft 30304, beh 30304, (test) ft 1341, beh 1341\n",
      " subj 27 / 35: pearson r=0.241 , mse=0.982, rsq=0.018\n",
      "              (train) ft 30304, beh 30304, (test) ft 1341, beh 1341\n",
      " subj 28 / 35: pearson r=0.3 , mse=0.922, rsq=0.077\n",
      "              (train) ft 30304, beh 30304, (test) ft 1341, beh 1341\n",
      " subj 29 / 35: pearson r=0.224 , mse=0.987, rsq=0.013\n",
      "              (train) ft 30304, beh 30304, (test) ft 1341, beh 1341\n",
      " subj 30 / 35: pearson r=0.509 , mse=0.746, rsq=0.254\n",
      "              (train) ft 30304, beh 30304, (test) ft 1341, beh 1341\n",
      " subj 31 / 35: pearson r=0.261 , mse=0.97, rsq=0.029\n",
      "              (train) ft 30304, beh 30304, (test) ft 1341, beh 1341\n",
      " subj 32 / 35: pearson r=0.072 , mse=1.084, rsq=-0.085\n",
      "              (train) ft 30304, beh 30304, (test) ft 1341, beh 1341\n",
      " subj 33 / 35: pearson r=0.323 , mse=0.908, rsq=0.091\n",
      "              (train) ft 30304, beh 30304, (test) ft 1341, beh 1341\n",
      " subj 34 / 35: pearson r=0.274 , mse=0.949, rsq=0.051\n",
      "              (train) ft 30304, beh 30304, (test) ft 1341, beh 1341\n",
      " subj 35 / 35: pearson r=-0.003 , mse=1.191, rsq=-0.192\n",
      "              (train) ft 30304, beh 30304, (test) ft 1341, beh 1341\n"
     ]
    }
   ],
   "source": [
    "output_acc, output_eval = [], []\n",
    "for test_sub in range(test_nsubj):\n",
    "    test_feat = dynFC_test[test_sub, :, :]\n",
    "    test_behavior = arousal_test\n",
    "    \n",
    "    rmtr_test = []\n",
    "    for tm in range(test_feat.shape[1]):\n",
    "        if np.all(np.isnan(test_feat[:, tm])):\n",
    "            rmtr_test.append(tm)\n",
    "    rmtr_test = np.asarray(rmtr_test)\n",
    "    if len(rmtr_test) > 0:\n",
    "        test_feat = np.delete(test_feat, rmtr_test, 1)\n",
    "        test_behavior = np.delete(test_behavior, rmtr_test, 0)\n",
    "    \n",
    "    predicted = clf.predict(test_feat.T)\n",
    "    output_acc.append(predicted)\n",
    "    \n",
    "    # evaluate\n",
    "    pearsonr = scipy.stats.pearsonr(test_behavior, predicted)\n",
    "    mse = metrics.mean_squared_error(test_behavior, predicted)\n",
    "    rsq = metrics.r2_score(test_behavior, predicted)\n",
    "    output_eval.append([pearsonr[0], mse, rsq])\n",
    "    \n",
    "    print(' subj ' + str(test_sub + 1) + ' / ' + str(test_nsubj) + ': pearson r=' + str(\n",
    "            np.round(pearsonr[0], 3)), ', mse=' + str(np.round(mse, 3)) + ', rsq=' + str(np.round(rsq, 3)))\n",
    "    print('              (train) ft ' + str(train_feat.shape[1]) + ', beh ' + str(train_arousal.shape[0]) +\n",
    "              ', (test) ft ' + str(test_feat.shape[1]) + ', beh ' + str(test_behavior.shape[0]))\n",
    "    \n",
    "output_acc, output_eval = np.asarray(output_acc), np.asarray(output_eval)"
   ]
  },
  {
   "cell_type": "code",
   "execution_count": 12,
   "id": "578b016b",
   "metadata": {},
   "outputs": [
    {
     "name": "stdout",
     "output_type": "stream",
     "text": [
      "Prediction result (mean of cross-validations): FNL\n",
      " pearson r = 0.27\n",
      " MSE       = 0.954\n",
      " r-squared = 0.046\n"
     ]
    },
    {
     "data": {
      "image/png": "[encoded data removed]",
      "text/plain": [
       "<Figure size 640x480 with 3 Axes>"
      ]
     },
     "metadata": {},
     "output_type": "display_data"
    }
   ],
   "source": [
    "fig, axs = plt.subplots(1,3)\n",
    "axs[0].hist(output_eval[:,0])\n",
    "axs[0].set_title('Pearson correlation')\n",
    "axs[1].hist(output_eval[:,1])\n",
    "axs[1].set_title('MSE')\n",
    "axs[2].hist(output_eval[:,2])\n",
    "axs[2].set_title('r-squared')\n",
    "\n",
    "print('Prediction result (mean of cross-validations): '+dataset_test)\n",
    "print(' pearson r = '+str(np.round(conv_z2r(np.mean(conv_r2z(output_eval[:,0]))),3)))\n",
    "print(' MSE       = '+str(np.round(np.mean(output_eval[:,1]),3)))\n",
    "print(' r-squared = '+str(np.round(np.mean(output_eval[:,2]),3)))"
   ]
  },
  {
   "cell_type": "code",
   "execution_count": 24,
   "id": "c232d252",
   "metadata": {},
   "outputs": [],
   "source": [
    "savepath = base_path + '/results/CPM/across/'\n",
    "result = {'acc':output_acc, 'eval':output_eval}\n",
    "if os.path.exists(savepath)==0:\n",
    "    os.makedirs(savepath)\n",
    "scipy.io.savemat(savepath+'/Sher-FNL_arousal.mat',result)"
   ]
  }
 ],
 "metadata": {
  "kernelspec": {
   "display_name": "Python 3 (ipykernel)",
   "language": "python",
   "name": "python3"
  },
  "language_info": {
   "codemirror_mode": {
    "name": "ipython",
    "version": 3
   },
   "file_extension": ".py",
   "mimetype": "text/x-python",
   "name": "python",
   "nbconvert_exporter": "python",
   "pygments_lexer": "ipython3",
   "version": "3.9.13"
  }
 },
 "nbformat": 4,
 "nbformat_minor": 5
}
