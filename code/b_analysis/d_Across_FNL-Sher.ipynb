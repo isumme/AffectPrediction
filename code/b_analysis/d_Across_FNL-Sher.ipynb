{
 "cells": [
  {
   "cell_type": "code",
   "execution_count": 1,
   "id": "9ef653f7",
   "metadata": {},
   "outputs": [],
   "source": [
    "import numpy as np\n",
    "import pandas as pd\n",
    "import os\n",
    "from sklearn import svm\n",
    "from sklearn import metrics\n",
    "import scipy.io\n",
    "from scipy import stats\n",
    "import matplotlib.pyplot as plt\n",
    "from scipy import stats, linalg\n",
    "import warnings\n",
    "from sklearn.exceptions import ConvergenceWarning\n",
    "def conv_r2z(r):\n",
    "    with np.errstate(invalid='ignore', divide='ignore'):\n",
    "        return 0.5 * (np.log(1 + r) - np.log(1 - r))\n",
    "def conv_z2r(z):\n",
    "    with np.errstate(invalid='ignore', divide='ignore'):\n",
    "        return (np.exp(2 * z) - 1) / (np.exp(2 * z) + 1)\n",
    "%matplotlib inline"
   ]
  },
  {
   "cell_type": "markdown",
   "id": "0615791a",
   "metadata": {},
   "source": [
    "# Settings"
   ]
  },
  {
   "cell_type": "code",
   "execution_count": 2,
   "id": "521c3343",
   "metadata": {},
   "outputs": [
    {
     "name": "stdout",
     "output_type": "stream",
     "text": [
      "Across-dataset prediction\n",
      "  model learn from = FNL win23\n",
      "  model testing    = sherlock win30\n"
     ]
    }
   ],
   "source": [
    "dataset_learn = 'FNL'\n",
    "dataset_test = 'sherlock'\n",
    "\n",
    "base_path = os.path.dirname(os.path.dirname(os.getcwd()))\n",
    "path = base_path + '/data'\n",
    "thres = 0.01\n",
    "nR = 122\n",
    "\n",
    "learn_nsubj = 35\n",
    "learn_wsize = 23\n",
    "learn_nT = 1336\n",
    "\n",
    "test_nsubj = 16\n",
    "test_wsize = 30\n",
    "test_nT = 1924\n",
    "\n",
    "print('Across-dataset prediction')\n",
    "\n",
    "learn_wsize = learn_wsize\n",
    "test_wsize = test_wsize\n",
    "print('  model learn from = '+str(dataset_learn)+' win'+str(learn_wsize))\n",
    "print('  model testing    = '+str(dataset_test)+' win'+str(test_wsize))"
   ]
  },
  {
   "cell_type": "markdown",
   "id": "b1edaec7",
   "metadata": {},
   "source": [
    "# Load Behavioral Data"
   ]
  },
  {
   "cell_type": "code",
   "execution_count": 3,
   "id": "83775e12",
   "metadata": {},
   "outputs": [
    {
     "name": "stdout",
     "output_type": "stream",
     "text": [
      "model learn: valence shape(1341,)\n",
      "model learn: arousal shape(1341,)\n",
      "model test: valence shape(1894,)\n",
      "model test: arousal shape(1894,)\n"
     ]
    }
   ],
   "source": [
    "# load valence\n",
    "valence_learn = scipy.io.loadmat(path + '/beh/preprocessed/group_average/conv_slidingBeh/FNL_valence.mat')['sliding_beh']\n",
    "valence_learn = np.squeeze(valence_learn)\n",
    "\n",
    "valence_test = scipy.io.loadmat(path + '/beh/preprocessed/group_average/conv_slidingBeh/sherlock_valence.mat')['sliding_beh']\n",
    "valence_test = np.squeeze(valence_test)\n",
    "\n",
    "# load arousal\n",
    "arousal_learn = scipy.io.loadmat(path + '/beh/preprocessed/group_average/conv_slidingBeh/FNL_arousal.mat')['sliding_beh']\n",
    "arousal_learn = np.squeeze(arousal_learn)\n",
    "\n",
    "arousal_test = scipy.io.loadmat(path + '/beh/preprocessed/group_average/conv_slidingBeh/sherlock_arousal.mat')['sliding_beh']\n",
    "arousal_test = np.squeeze(arousal_test)\n",
    "\n",
    "print('model learn: valence shape' + str(valence_learn.shape))\n",
    "print('model learn: arousal shape' + str(arousal_learn.shape))\n",
    "\n",
    "print('model test: valence shape' + str(valence_test.shape))\n",
    "print('model test: arousal shape' + str(arousal_test.shape))"
   ]
  },
  {
   "cell_type": "markdown",
   "id": "56de9007",
   "metadata": {},
   "source": [
    "# Load Brain Data"
   ]
  },
  {
   "cell_type": "code",
   "execution_count": 4,
   "id": "ebc0eac9",
   "metadata": {},
   "outputs": [
    {
     "name": "stdout",
     "output_type": "stream",
     "text": [
      "  model learn: brain entire feature shape (35, 7381, 1341)\n",
      "  model test: brain entire feature shape (16, 7381, 1894)\n"
     ]
    }
   ],
   "source": [
    "import mat73\n",
    "\n",
    "# Load Sherlock\n",
    "dynFC_learn = mat73.loadmat(path + '/brain/' + dataset_learn + '/a_output/FC/sliding-dynFeat.mat')['dynFeat']\n",
    "# zscore per feature\n",
    "dynFC_learn = scipy.stats.zscore(dynFC_learn,2,nan_policy='omit') \n",
    "print('  model learn: brain entire feature shape '+str(dynFC_learn.shape))\n",
    "\n",
    "# Load FNL\n",
    "dynFC_test = mat73.loadmat(path + '/brain/' + dataset_test + '/a_output/FC/sliding-dynFeat.mat')['dynFeat']\n",
    "# zscore per feature\n",
    "dynFC_test = scipy.stats.zscore(dynFC_test,2,nan_policy='omit') \n",
    "print('  model test: brain entire feature shape '+str(dynFC_test.shape))"
   ]
  },
  {
   "cell_type": "markdown",
   "id": "96e0f73d",
   "metadata": {},
   "source": [
    "# Valence"
   ]
  },
  {
   "cell_type": "code",
   "execution_count": 5,
   "id": "b403c4c1",
   "metadata": {},
   "outputs": [
    {
     "name": "stdout",
     "output_type": "stream",
     "text": [
      " #pos = 860 , #neg = 130\n"
     ]
    }
   ],
   "source": [
    "filepath = base_path + 'results/CPM/within/sherlock/sliding_valence.mat'\n",
    "pos_feat = scipy.io.loadmat(filepath)['pos_feat']\n",
    "neg_feat = scipy.io.loadmat(filepath)['neg_feat']\n",
    "pos_feat, neg_feat = np.average(pos_feat,0), np.average(neg_feat,0)\n",
    "for i1 in range(nR):\n",
    "    for i2 in range(nR):\n",
    "        if pos_feat[i1,i2]<1:\n",
    "            pos_feat[i1,i2]=0\n",
    "        if neg_feat[i1,i2]<1:\n",
    "            neg_feat[i1,i2]=0\n",
    "print(' #pos = '+str(int(np.sum(pos_feat)/2)), ', #neg = '+str(int(np.sum(neg_feat)/2)))\n",
    "all_feat = pos_feat+neg_feat\n",
    "featid = []\n",
    "ii = -1\n",
    "for i1 in range(nR-1):\n",
    "    for i2 in range(i1+1,nR):\n",
    "        ii=ii+1\n",
    "        if all_feat[i1,i2]==1:\n",
    "            featid.append(ii)"
   ]
  },
  {
   "cell_type": "code",
   "execution_count": 6,
   "id": "2d579319",
   "metadata": {},
   "outputs": [
    {
     "name": "stdout",
     "output_type": "stream",
     "text": [
      "  model learn: brain selected feature shape (35, 990, 1341)\n",
      "  model test : brain selected feature shape (16, 990, 1894)\n"
     ]
    }
   ],
   "source": [
    "dynFC_learn = dynFC_learn[:,featid,:]\n",
    "dynFC_test = dynFC_test[:,featid,:]\n",
    "print('  model learn: brain selected feature shape '+str(dynFC_learn.shape))\n",
    "print('  model test : brain selected feature shape '+str(dynFC_test.shape))"
   ]
  },
  {
   "cell_type": "code",
   "execution_count": 7,
   "id": "0a5fc35e",
   "metadata": {},
   "outputs": [
    {
     "name": "stdout",
     "output_type": "stream",
     "text": [
      "Number of TR removed: 0\n"
     ]
    }
   ],
   "source": [
    "train_feat = np.transpose(dynFC_learn,(1,0,2))\n",
    "train_feat = np.reshape(train_feat,(train_feat.shape[0],train_feat.shape[1]*train_feat.shape[2]))\n",
    "\n",
    "train_valence = []\n",
    "for sub in range(learn_nsubj):\n",
    "    train_valence.append(valence_learn)\n",
    "train_valence = np.asarray(train_valence)\n",
    "train_valence = np.reshape(train_valence, (train_valence.shape[0])*train_valence.shape[1])\n",
    "\n",
    "# if several TRs are removed\n",
    "rmtr_train = []\n",
    "for tm in range(train_feat.shape[1]):\n",
    "    if np.all(np.isnan(train_feat[:,tm])):\n",
    "        rmtr_train.append(tm)\n",
    "rmtr_train = np.asarray(rmtr_train)\n",
    "if len(rmtr_train)>0:\n",
    "    train_feat = np.delete(train_feat,rmtr_train,1)\n",
    "    train_valence = np.delete(train_valence,rmtr_train,0)\n",
    "print('Number of TR removed: '+str(len(rmtr_train)))"
   ]
  },
  {
   "cell_type": "code",
   "execution_count": 8,
   "id": "2cb052ed",
   "metadata": {},
   "outputs": [
    {
     "name": "stdout",
     "output_type": "stream",
     "text": [
      "[]\n",
      "[256, 285, 312, 326, 389, 395, 396, 397, 398, 399, 400, 451, 506, 780, 799, 825, 312, 395, 396, 397, 398, 399, 400, 312, 395, 396, 397, 398, 399, 400, 256, 285, 312, 326, 389, 395, 396, 397, 398, 399, 400, 451, 506, 780, 799, 825, 312, 395, 396, 397, 398, 399, 400, 312, 395, 396, 397, 398, 399, 400]\n",
      "NaN = [256 285 312 326 389 395 396 397 398 399 400 451 506 780 799 825]\n"
     ]
    }
   ],
   "source": [
    "nanidx = []\n",
    "for ft in range(train_feat.shape[0]):\n",
    "    if np.any(np.isnan(train_feat[ft,:])):\n",
    "        nanidx.append(ft)\n",
    "print(nanidx)\n",
    "for subj in range(dynFC_test.shape[0]):\n",
    "    for ft in range(dynFC_test.shape[1]):\n",
    "        if np.any(np.isnan(dynFC_test[subj,ft,:])):\n",
    "            nanidx.append(ft)\n",
    "print(nanidx)\n",
    "\n",
    "nanidx = np.unique(nanidx)\n",
    "print('NaN = '+str(nanidx))\n",
    "\n",
    "if len(nanidx)>0:\n",
    "    train_feat = np.delete(train_feat,nanidx,0)\n",
    "    dynFC_test = np.delete(dynFC_test,nanidx,1)"
   ]
  },
  {
   "cell_type": "markdown",
   "id": "affe1863",
   "metadata": {},
   "source": [
    "# Support Vector Regression with non-linear Kernel"
   ]
  },
  {
   "cell_type": "code",
   "execution_count": 9,
   "id": "8c998227",
   "metadata": {},
   "outputs": [
    {
     "name": "stdout",
     "output_type": "stream",
     "text": [
      "SVR prediction with model learned from FNL\n",
      "  train feature   : (46935, 974)\n",
      "  train valence: (46935,)\n",
      "Training done!\n"
     ]
    }
   ],
   "source": [
    "print('SVR prediction with model learned from '+str(dataset_learn))\n",
    "print('  train feature   : '+str(train_feat.T.shape))\n",
    "print('  train valence: '+str(train_valence.shape))\n",
    "\n",
    "clf = []\n",
    "clf = svm.SVR(kernel='rbf',max_iter=1000, gamma='auto')\n",
    "with warnings.catch_warnings():\n",
    "    warnings.filterwarnings(\"ignore\", category=ConvergenceWarning)\n",
    "    clf.fit(train_feat.T, train_valence)\n",
    "print('Training done!')"
   ]
  },
  {
   "cell_type": "code",
   "execution_count": 10,
   "id": "c2acca59",
   "metadata": {},
   "outputs": [
    {
     "name": "stdout",
     "output_type": "stream",
     "text": [
      " subj 1 / 16: pearson r=0.028 , mse=1.136, rsq=-0.137\n",
      "              (train) ft 46935, beh 46935, (test) ft 1894, beh 1894\n",
      " subj 2 / 16: pearson r=0.065 , mse=1.101, rsq=-0.102\n",
      "              (train) ft 46935, beh 46935, (test) ft 1894, beh 1894\n",
      " subj 3 / 16: pearson r=-0.194 , mse=1.374, rsq=-0.375\n",
      "              (train) ft 46935, beh 46935, (test) ft 1894, beh 1894\n",
      " subj 4 / 16: pearson r=-0.044 , mse=1.229, rsq=-0.23\n",
      "              (train) ft 46935, beh 46935, (test) ft 1894, beh 1894\n",
      " subj 5 / 16: pearson r=0.114 , mse=1.081, rsq=-0.081\n",
      "              (train) ft 46935, beh 46935, (test) ft 1894, beh 1894\n",
      " subj 6 / 16: pearson r=0.04 , mse=1.185, rsq=-0.185\n",
      "              (train) ft 46935, beh 46935, (test) ft 1894, beh 1894\n",
      " subj 7 / 16: pearson r=0.149 , mse=1.061, rsq=-0.061\n",
      "              (train) ft 46935, beh 46935, (test) ft 1894, beh 1894\n",
      " subj 8 / 16: pearson r=0.015 , mse=1.091, rsq=-0.092\n",
      "              (train) ft 46935, beh 46935, (test) ft 1894, beh 1894\n",
      " subj 9 / 16: pearson r=0.034 , mse=1.096, rsq=-0.097\n",
      "              (train) ft 46935, beh 46935, (test) ft 1894, beh 1894\n",
      " subj 10 / 16: pearson r=-0.187 , mse=1.314, rsq=-0.315\n",
      "              (train) ft 46935, beh 46935, (test) ft 1894, beh 1894\n",
      " subj 11 / 16: pearson r=-0.145 , mse=1.266, rsq=-0.267\n",
      "              (train) ft 46935, beh 46935, (test) ft 1894, beh 1894\n",
      " subj 12 / 16: pearson r=-0.045 , mse=1.179, rsq=-0.18\n",
      "              (train) ft 46935, beh 46935, (test) ft 1894, beh 1894\n",
      " subj 13 / 16: pearson r=0.198 , mse=1.007, rsq=-0.007\n",
      "              (train) ft 46935, beh 46935, (test) ft 1894, beh 1894\n",
      " subj 14 / 16: pearson r=-0.235 , mse=1.378, rsq=-0.379\n",
      "              (train) ft 46935, beh 46935, (test) ft 1894, beh 1894\n",
      " subj 15 / 16: pearson r=-0.035 , mse=1.167, rsq=-0.168\n",
      "              (train) ft 46935, beh 46935, (test) ft 1894, beh 1894\n",
      " subj 16 / 16: pearson r=-0.01 , mse=1.172, rsq=-0.173\n",
      "              (train) ft 46935, beh 46935, (test) ft 1894, beh 1894\n"
     ]
    }
   ],
   "source": [
    "output_acc, output_eval = [], []\n",
    "for test_sub in range(test_nsubj):\n",
    "    test_feat = dynFC_test[test_sub, :, :]\n",
    "    test_behavior = valence_test\n",
    "    \n",
    "    rmtr_test = []\n",
    "    for tm in range(test_feat.shape[1]):\n",
    "        if np.all(np.isnan(test_feat[:, tm])):\n",
    "            rmtr_test.append(tm)\n",
    "    rmtr_test = np.asarray(rmtr_test)\n",
    "    if len(rmtr_test) > 0:\n",
    "        test_feat = np.delete(test_feat, rmtr_test, 1)\n",
    "        test_behavior = np.delete(test_behavior, rmtr_test, 0)\n",
    "    \n",
    "    predicted = clf.predict(test_feat.T)\n",
    "    output_acc.append(predicted)\n",
    "    \n",
    "    # evaluate\n",
    "    pearsonr = scipy.stats.pearsonr(test_behavior, predicted)\n",
    "    mse = metrics.mean_squared_error(test_behavior, predicted)\n",
    "    rsq = metrics.r2_score(test_behavior, predicted)\n",
    "    output_eval.append([pearsonr[0], mse, rsq])\n",
    "    \n",
    "    print(' subj ' + str(test_sub + 1) + ' / ' + str(test_nsubj) + ': pearson r=' + str(\n",
    "            np.round(pearsonr[0], 3)), ', mse=' + str(np.round(mse, 3)) + ', rsq=' + str(np.round(rsq, 3)))\n",
    "    print('              (train) ft ' + str(train_feat.shape[1]) + ', beh ' + str(train_valence.shape[0]) +\n",
    "              ', (test) ft ' + str(test_feat.shape[1]) + ', beh ' + str(test_behavior.shape[0]))\n",
    "    \n",
    "output_acc, output_eval = np.asarray(output_acc), np.asarray(output_eval)"
   ]
  },
  {
   "cell_type": "code",
   "execution_count": 11,
   "id": "1de8c796",
   "metadata": {},
   "outputs": [
    {
     "name": "stdout",
     "output_type": "stream",
     "text": [
      "Prediction result (mean of cross-validations): sherlock\n",
      " pearson r = -0.016\n",
      " MSE       = 1.177\n",
      " r-squared = -0.178\n"
     ]
    },
    {
     "data": {
      "image/png": "[encoded data removed]",
      "text/plain": [
       "<Figure size 640x480 with 3 Axes>"
      ]
     },
     "metadata": {},
     "output_type": "display_data"
    }
   ],
   "source": [
    "fig, axs = plt.subplots(1,3)\n",
    "axs[0].hist(output_eval[:,0])\n",
    "axs[0].set_title('Pearson correlation')\n",
    "axs[1].hist(output_eval[:,1])\n",
    "axs[1].set_title('MSE')\n",
    "axs[2].hist(output_eval[:,2])\n",
    "axs[2].set_title('r-squared')\n",
    "\n",
    "print('Prediction result (mean of cross-validations): '+dataset_test)\n",
    "print(' pearson r = '+str(np.round(conv_z2r(np.mean(conv_r2z(output_eval[:,0]))),3)))\n",
    "print(' MSE       = '+str(np.round(np.mean(output_eval[:,1]),3)))\n",
    "print(' r-squared = '+str(np.round(np.mean(output_eval[:,2]),3)))"
   ]
  },
  {
   "cell_type": "markdown",
   "id": "4d073593",
   "metadata": {},
   "source": [
    "# Save Output"
   ]
  },
  {
   "cell_type": "code",
   "execution_count": 12,
   "id": "fe3e248d",
   "metadata": {},
   "outputs": [],
   "source": [
    "savepath = base_path + '/results/CPM/across/'\n",
    "result = {'acc':output_acc, 'eval':output_eval}\n",
    "if os.path.exists(savepath)==0:\n",
    "    os.makedirs(savepath)\n",
    "scipy.io.savemat(savepath+'/FNL-Sher_valence.mat',result)"
   ]
  },
  {
   "cell_type": "markdown",
   "id": "00598938",
   "metadata": {},
   "source": [
    "# Load Brain Data Again"
   ]
  },
  {
   "cell_type": "code",
   "execution_count": 13,
   "id": "602caeaf",
   "metadata": {},
   "outputs": [
    {
     "name": "stdout",
     "output_type": "stream",
     "text": [
      "  model learn: brain entire feature shape (35, 7381, 1341)\n",
      "  model test: brain entire feature shape (16, 7381, 1894)\n"
     ]
    }
   ],
   "source": [
    "import mat73\n",
    "\n",
    "# Load Sherlock\n",
    "dynFC_learn = mat73.loadmat(path + '/brain/' + dataset_learn + '/a_output/FC/sliding-dynFeat.mat')['dynFeat']\n",
    "# zscore per feature\n",
    "dynFC_learn = scipy.stats.zscore(dynFC_learn,2,nan_policy='omit') \n",
    "print('  model learn: brain entire feature shape '+str(dynFC_learn.shape))\n",
    "\n",
    "# Load FNL\n",
    "dynFC_test = mat73.loadmat(path + '/brain/' + dataset_test + '/a_output/FC/sliding-dynFeat.mat')['dynFeat']\n",
    "# zscore per feature\n",
    "dynFC_test = scipy.stats.zscore(dynFC_test,2,nan_policy='omit') \n",
    "print('  model test: brain entire feature shape '+str(dynFC_test.shape))"
   ]
  },
  {
   "cell_type": "markdown",
   "id": "c3467b12",
   "metadata": {},
   "source": [
    "# Arousal"
   ]
  },
  {
   "cell_type": "code",
   "execution_count": 14,
   "id": "e2b08ccc",
   "metadata": {},
   "outputs": [
    {
     "name": "stdout",
     "output_type": "stream",
     "text": [
      " #pos = 848 , #neg = 730\n"
     ]
    }
   ],
   "source": [
    "filepath = base_path + '/results/CPM/within/sherlock/sliding_arousal.mat'\n",
    "pos_feat = scipy.io.loadmat(filepath)['pos_feat']\n",
    "neg_feat = scipy.io.loadmat(filepath)['neg_feat']\n",
    "pos_feat, neg_feat = np.average(pos_feat,0), np.average(neg_feat,0)\n",
    "for i1 in range(nR):\n",
    "    for i2 in range(nR):\n",
    "        if pos_feat[i1,i2]<1:\n",
    "            pos_feat[i1,i2]=0\n",
    "        if neg_feat[i1,i2]<1:\n",
    "            neg_feat[i1,i2]=0\n",
    "print(' #pos = '+str(int(np.sum(pos_feat)/2)), ', #neg = '+str(int(np.sum(neg_feat)/2)))\n",
    "all_feat = pos_feat+neg_feat\n",
    "featid = []\n",
    "ii = -1\n",
    "for i1 in range(nR-1):\n",
    "    for i2 in range(i1+1,nR):\n",
    "        ii=ii+1\n",
    "        if all_feat[i1,i2]==1:\n",
    "            featid.append(ii)"
   ]
  },
  {
   "cell_type": "code",
   "execution_count": 15,
   "id": "61d5003a",
   "metadata": {},
   "outputs": [
    {
     "name": "stdout",
     "output_type": "stream",
     "text": [
      "  model learn: brain selected feature shape (35, 1578, 1341)\n",
      "  model test : brain selected feature shape (16, 1578, 1894)\n"
     ]
    }
   ],
   "source": [
    "dynFC_learn = dynFC_learn[:,featid,:]\n",
    "dynFC_test = dynFC_test[:,featid,:]\n",
    "print('  model learn: brain selected feature shape '+str(dynFC_learn.shape))\n",
    "print('  model test : brain selected feature shape '+str(dynFC_test.shape))"
   ]
  },
  {
   "cell_type": "code",
   "execution_count": 16,
   "id": "eba6387c",
   "metadata": {},
   "outputs": [
    {
     "name": "stdout",
     "output_type": "stream",
     "text": [
      "Number of TR removed: 0\n"
     ]
    }
   ],
   "source": [
    "train_feat = np.transpose(dynFC_learn,(1,0,2))\n",
    "train_feat = np.reshape(train_feat,(train_feat.shape[0],train_feat.shape[1]*train_feat.shape[2]))\n",
    "\n",
    "train_arousal = []\n",
    "for sub in range(learn_nsubj):\n",
    "    train_arousal.append(arousal_learn)\n",
    "train_arousal = np.asarray(train_arousal)\n",
    "train_arousal = np.reshape(train_arousal, (train_arousal.shape[0])*train_arousal.shape[1])\n",
    "\n",
    "# if several TRs are removed\n",
    "rmtr_train = []\n",
    "for tm in range(train_feat.shape[1]):\n",
    "    if np.all(np.isnan(train_feat[:,tm])):\n",
    "        rmtr_train.append(tm)\n",
    "rmtr_train = np.asarray(rmtr_train)\n",
    "if len(rmtr_train)>0:\n",
    "    train_feat = np.delete(train_feat,rmtr_train,1)\n",
    "    train_arousal = np.delete(train_arousal,rmtr_train,0)\n",
    "print('Number of TR removed: '+str(len(rmtr_train)))"
   ]
  },
  {
   "cell_type": "code",
   "execution_count": 17,
   "id": "bcf5fd55",
   "metadata": {},
   "outputs": [
    {
     "name": "stdout",
     "output_type": "stream",
     "text": [
      "NaN = [ 232  254  305  395  447  528  577  578  579  580  756  924 1082 1253\n",
      " 1282 1318 1330 1375 1395 1396 1397 1398 1399]\n",
      "Number of nans in selected FC: 23\n",
      "Train Feat Shape: (1555, 46935)\n",
      "DynFC_test Shape: (16, 1555, 1894)\n"
     ]
    }
   ],
   "source": [
    "nanidx = []\n",
    "for ft in range(train_feat.shape[0]):\n",
    "    if np.any(np.isnan(train_feat[ft,:])):\n",
    "        nanidx.append(ft)\n",
    "for subj in range(dynFC_test.shape[0]):\n",
    "    for ft in range(dynFC_test.shape[1]):\n",
    "        if np.any(np.isnan(dynFC_test[subj,ft,:])):\n",
    "            nanidx.append(ft)\n",
    "\n",
    "nanidx = np.unique(nanidx)\n",
    "print('NaN = '+str(nanidx))\n",
    "\n",
    "if len(nanidx)>0:\n",
    "    train_feat = np.delete(train_feat,nanidx,0)\n",
    "    dynFC_test = np.delete(dynFC_test,nanidx,1)\n",
    "\n",
    "print('Number of nans in selected FC: '+str(len(nanidx)))\n",
    "print('Train Feat Shape: '+str(train_feat.shape))\n",
    "print('DynFC_test Shape: '+str(dynFC_test.shape))"
   ]
  },
  {
   "cell_type": "markdown",
   "id": "d594d717",
   "metadata": {},
   "source": [
    "# Support Vector Regression with non-linear Kernel"
   ]
  },
  {
   "cell_type": "code",
   "execution_count": 18,
   "id": "3c80c078",
   "metadata": {},
   "outputs": [
    {
     "name": "stdout",
     "output_type": "stream",
     "text": [
      "SVR prediction with model learned from FNL\n",
      "  train feature   : (46935, 1555)\n",
      "  train arousal: (46935,)\n",
      "Training done!\n"
     ]
    }
   ],
   "source": [
    "print('SVR prediction with model learned from '+str(dataset_learn))\n",
    "print('  train feature   : '+str(train_feat.T.shape))\n",
    "print('  train arousal: '+str(train_arousal.shape))\n",
    "\n",
    "clf = []\n",
    "clf = svm.SVR(kernel='rbf',max_iter=1000, gamma='auto')\n",
    "with warnings.catch_warnings():\n",
    "    warnings.filterwarnings(\"ignore\", category=ConvergenceWarning)\n",
    "    clf.fit(train_feat.T, train_arousal)\n",
    "print('Training done!')"
   ]
  },
  {
   "cell_type": "code",
   "execution_count": 19,
   "id": "facab614",
   "metadata": {},
   "outputs": [
    {
     "name": "stdout",
     "output_type": "stream",
     "text": [
      " subj 1 / 16: pearson r=0.277 , mse=0.931, rsq=0.068\n",
      "              (train) ft 46935, beh 46935, (test) ft 1894, beh 1894\n",
      " subj 2 / 16: pearson r=0.294 , mse=0.931, rsq=0.069\n",
      "              (train) ft 46935, beh 46935, (test) ft 1894, beh 1894\n",
      " subj 3 / 16: pearson r=0.156 , mse=1.033, rsq=-0.034\n",
      "              (train) ft 46935, beh 46935, (test) ft 1894, beh 1894\n",
      " subj 4 / 16: pearson r=0.123 , mse=1.068, rsq=-0.068\n",
      "              (train) ft 46935, beh 46935, (test) ft 1894, beh 1894\n",
      " subj 5 / 16: pearson r=0.063 , mse=1.111, rsq=-0.112\n",
      "              (train) ft 46935, beh 46935, (test) ft 1894, beh 1894\n",
      " subj 6 / 16: pearson r=0.302 , mse=0.918, rsq=0.081\n",
      "              (train) ft 46935, beh 46935, (test) ft 1894, beh 1894\n",
      " subj 7 / 16: pearson r=0.322 , mse=0.899, rsq=0.1\n",
      "              (train) ft 46935, beh 46935, (test) ft 1894, beh 1894\n",
      " subj 8 / 16: pearson r=0.064 , mse=1.104, rsq=-0.105\n",
      "              (train) ft 46935, beh 46935, (test) ft 1894, beh 1894\n",
      " subj 9 / 16: pearson r=0.345 , mse=0.884, rsq=0.116\n",
      "              (train) ft 46935, beh 46935, (test) ft 1894, beh 1894\n",
      " subj 10 / 16: pearson r=0.107 , mse=1.061, rsq=-0.061\n",
      "              (train) ft 46935, beh 46935, (test) ft 1894, beh 1894\n",
      " subj 11 / 16: pearson r=0.081 , mse=1.053, rsq=-0.054\n",
      "              (train) ft 46935, beh 46935, (test) ft 1894, beh 1894\n",
      " subj 12 / 16: pearson r=0.11 , mse=1.069, rsq=-0.069\n",
      "              (train) ft 46935, beh 46935, (test) ft 1894, beh 1894\n",
      " subj 13 / 16: pearson r=-0.002 , mse=1.133, rsq=-0.133\n",
      "              (train) ft 46935, beh 46935, (test) ft 1894, beh 1894\n",
      " subj 14 / 16: pearson r=0.259 , mse=0.944, rsq=0.056\n",
      "              (train) ft 46935, beh 46935, (test) ft 1894, beh 1894\n",
      " subj 15 / 16: pearson r=0.379 , mse=0.867, rsq=0.133\n",
      "              (train) ft 46935, beh 46935, (test) ft 1894, beh 1894\n",
      " subj 16 / 16: pearson r=0.245 , mse=0.96, rsq=0.039\n",
      "              (train) ft 46935, beh 46935, (test) ft 1894, beh 1894\n"
     ]
    }
   ],
   "source": [
    "output_acc, output_eval = [], []\n",
    "for test_sub in range(test_nsubj):\n",
    "    test_feat = dynFC_test[test_sub, :, :]\n",
    "    test_behavior = arousal_test\n",
    "    \n",
    "    rmtr_test = []\n",
    "    for tm in range(test_feat.shape[1]):\n",
    "        if np.all(np.isnan(test_feat[:, tm])):\n",
    "            rmtr_test.append(tm)\n",
    "    rmtr_test = np.asarray(rmtr_test)\n",
    "    if len(rmtr_test) > 0:\n",
    "        test_feat = np.delete(test_feat, rmtr_test, 1)\n",
    "        test_behavior = np.delete(test_behavior, rmtr_test, 0)\n",
    "    \n",
    "    predicted = clf.predict(test_feat.T)\n",
    "    output_acc.append(predicted)\n",
    "    \n",
    "    # evaluate\n",
    "    pearsonr = scipy.stats.pearsonr(test_behavior, predicted)\n",
    "    mse = metrics.mean_squared_error(test_behavior, predicted)\n",
    "    rsq = metrics.r2_score(test_behavior, predicted)\n",
    "    output_eval.append([pearsonr[0], mse, rsq])\n",
    "    \n",
    "    print(' subj ' + str(test_sub + 1) + ' / ' + str(test_nsubj) + ': pearson r=' + str(\n",
    "            np.round(pearsonr[0], 3)), ', mse=' + str(np.round(mse, 3)) + ', rsq=' + str(np.round(rsq, 3)))\n",
    "    print('              (train) ft ' + str(train_feat.shape[1]) + ', beh ' + str(train_arousal.shape[0]) +\n",
    "              ', (test) ft ' + str(test_feat.shape[1]) + ', beh ' + str(test_behavior.shape[0]))\n",
    "    \n",
    "output_acc, output_eval = np.asarray(output_acc), np.asarray(output_eval)"
   ]
  },
  {
   "cell_type": "code",
   "execution_count": 20,
   "id": "578b016b",
   "metadata": {},
   "outputs": [
    {
     "name": "stdout",
     "output_type": "stream",
     "text": [
      "Prediction result (mean of cross-validations): sherlock\n",
      " pearson r = 0.198\n",
      " MSE       = 0.998\n",
      " r-squared = 0.002\n"
     ]
    },
    {
     "data": {
      "image/png": "[encoded data removed]",
      "text/plain": [
       "<Figure size 640x480 with 3 Axes>"
      ]
     },
     "metadata": {},
     "output_type": "display_data"
    }
   ],
   "source": [
    "fig, axs = plt.subplots(1,3)\n",
    "axs[0].hist(output_eval[:,0])\n",
    "axs[0].set_title('Pearson correlation')\n",
    "axs[1].hist(output_eval[:,1])\n",
    "axs[1].set_title('MSE')\n",
    "axs[2].hist(output_eval[:,2])\n",
    "axs[2].set_title('r-squared')\n",
    "\n",
    "print('Prediction result (mean of cross-validations): '+dataset_test)\n",
    "print(' pearson r = '+str(np.round(conv_z2r(np.mean(conv_r2z(output_eval[:,0]))),3)))\n",
    "print(' MSE       = '+str(np.round(np.mean(output_eval[:,1]),3)))\n",
    "print(' r-squared = '+str(np.round(np.mean(output_eval[:,2]),3)))"
   ]
  },
  {
   "cell_type": "code",
   "execution_count": 21,
   "id": "c232d252",
   "metadata": {},
   "outputs": [],
   "source": [
    "savepath = base_path + '/results/CPM/across/'\n",
    "result = {'acc':output_acc, 'eval':output_eval}\n",
    "if os.path.exists(savepath)==0:\n",
    "    os.makedirs(savepath)\n",
    "scipy.io.savemat(savepath+'/FNL-Sher_arousal.mat',result)"
   ]
  }
 ],
 "metadata": {
  "kernelspec": {
   "display_name": "Python 3 (ipykernel)",
   "language": "python",
   "name": "python3"
  },
  "language_info": {
   "codemirror_mode": {
    "name": "ipython",
    "version": 3
   },
   "file_extension": ".py",
   "mimetype": "text/x-python",
   "name": "python",
   "nbconvert_exporter": "python",
   "pygments_lexer": "ipython3",
   "version": "3.9.13"
  }
 },
 "nbformat": 4,
 "nbformat_minor": 5
}
