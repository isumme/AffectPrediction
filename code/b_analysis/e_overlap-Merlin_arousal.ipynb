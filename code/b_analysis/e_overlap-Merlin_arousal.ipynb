{
 "cells": [
  {
   "cell_type": "code",
   "execution_count": 1,
   "id": "aa7cb333",
   "metadata": {},
   "outputs": [],
   "source": [
    "import numpy as np\n",
    "import pandas as pd\n",
    "import os\n",
    "from sklearn import svm\n",
    "from sklearn import metrics\n",
    "import scipy.io\n",
    "from scipy import stats\n",
    "import matplotlib.pyplot as plt\n",
    "from scipy import stats, linalg\n",
    "import warnings\n",
    "from sklearn.exceptions import ConvergenceWarning\n",
    "def conv_r2z(r):\n",
    "    with np.errstate(invalid='ignore', divide='ignore'):\n",
    "        return 0.5 * (np.log(1 + r) - np.log(1 - r))\n",
    "def conv_z2r(z):\n",
    "    with np.errstate(invalid='ignore', divide='ignore'):\n",
    "        return (np.exp(2 * z) - 1) / (np.exp(2 * z) + 1)"
   ]
  },
  {
   "cell_type": "markdown",
   "id": "520de87b",
   "metadata": {},
   "source": [
    "# Load Brain data"
   ]
  },
  {
   "cell_type": "code",
   "execution_count": 2,
   "id": "8b05f90e",
   "metadata": {},
   "outputs": [],
   "source": [
    "base_path = os.path.dirname(os.path.dirname(os.getcwd()))\n",
    "path = base_path + '/data'\n",
    "nR = 122\n",
    "thres = 0.01"
   ]
  },
  {
   "cell_type": "code",
   "execution_count": 3,
   "id": "b1b15123",
   "metadata": {},
   "outputs": [
    {
     "name": "stdout",
     "output_type": "stream",
     "text": [
      "  model learn: brain entire feature shape (16, 7381, 1894)\n",
      "  model learn: brain entire feature shape (35, 7381, 1341)\n"
     ]
    }
   ],
   "source": [
    "# load brain\n",
    "import mat73\n",
    "brain_sherlock = mat73.loadmat(path + '/brain/' + 'sherlock' + '/a_output/FC/sliding-dynFeat.mat')['dynFeat']\n",
    "# zscore per feature\n",
    "brain_sherlock = scipy.stats.zscore(brain_sherlock,2,nan_policy='omit') \n",
    "print('  model learn: brain entire feature shape '+str(brain_sherlock.shape))\n",
    "\n",
    "brain_FNL = mat73.loadmat(path + '/brain/' + 'FNL' + '/a_output/FC/sliding-dynFeat.mat')['dynFeat']\n",
    "# zscore per feature\n",
    "brain_FNL = scipy.stats.zscore(brain_FNL,2,nan_policy='omit') \n",
    "print('  model learn: brain entire feature shape '+str(brain_FNL.shape))"
   ]
  },
  {
   "cell_type": "markdown",
   "id": "ca0a663e",
   "metadata": {},
   "source": [
    "# Feature selection"
   ]
  },
  {
   "cell_type": "code",
   "execution_count": 4,
   "id": "d94f88ce",
   "metadata": {},
   "outputs": [
    {
     "name": "stdout",
     "output_type": "stream",
     "text": [
      "model learn: FNL arousal shape(1341,)\n",
      "model learn: sherlock arousal shape(1894,)\n"
     ]
    }
   ],
   "source": [
    "# load behavior\n",
    "\n",
    "arousal_FNL = scipy.io.loadmat(path + '/beh/preprocessed/group_average/conv_slidingBeh/FNL_arousal.mat')['sliding_beh']\n",
    "arousal_FNL = np.squeeze(arousal_FNL)\n",
    "\n",
    "arousal_sherlock = scipy.io.loadmat(path + '/beh/preprocessed/group_average/conv_slidingBeh/sherlock_arousal.mat')['sliding_beh']\n",
    "arousal_sherlock = np.squeeze(arousal_sherlock)\n",
    "\n",
    "print('model learn: FNL arousal shape' + str(arousal_FNL.shape))\n",
    "print('model learn: sherlock arousal shape' + str(arousal_sherlock.shape))"
   ]
  },
  {
   "cell_type": "code",
   "execution_count": 5,
   "id": "4540f287",
   "metadata": {},
   "outputs": [
    {
     "name": "stdout",
     "output_type": "stream",
     "text": [
      " #pos = 439 , #neg = 154\n",
      " #pos = 848 , #neg = 730\n"
     ]
    }
   ],
   "source": [
    "filepath = base_path + '/results/sherlock/within_prediction/sliding_arousal.mat'\n",
    "pos_feat = scipy.io.loadmat(filepath)['pos_feat']\n",
    "neg_feat = scipy.io.loadmat(filepath)['neg_feat']\n",
    "pos_feat_s, neg_feat_s = np.average(pos_feat,0), np.average(neg_feat,0)\n",
    "for i1 in range(nR):\n",
    "    for i2 in range(nR):\n",
    "        if pos_feat_s[i1,i2]<1:\n",
    "            pos_feat_s[i1,i2]=0\n",
    "        if neg_feat_s[i1,i2]<1:\n",
    "            neg_feat_s[i1,i2]=0\n",
    "print(' #pos = '+str(int(np.sum(pos_feat_s)/2)), ', #neg = '+str(int(np.sum(neg_feat_s)/2)))\n",
    "all_feat_s = pos_feat_s+neg_feat_s\n",
    "featid_s,featid_s_pos,featid_s_neg  = [],[],[]\n",
    "ii = -1\n",
    "for i1 in range(nR-1):\n",
    "    for i2 in range(i1+1,nR):\n",
    "        ii=ii+1\n",
    "        if all_feat_s[i1,i2]==1:\n",
    "            featid_s.append(ii)\n",
    "        if pos_feat_s[i1,i2]==1:\n",
    "            featid_s_pos.append(ii)\n",
    "        if neg_feat_s[i1,i2]==1:\n",
    "            featid_s_neg.append(ii)\n",
    "            \n",
    "            \n",
    "filepath = base_path + '/results/FNL/within_prediction/sliding_arousal.mat'\n",
    "pos_feat = scipy.io.loadmat(filepath)['pos_feat']\n",
    "neg_feat = scipy.io.loadmat(filepath)['neg_feat']\n",
    "pos_feat_f, neg_feat_f = np.average(pos_feat,0), np.average(neg_feat,0)\n",
    "for i1 in range(nR):\n",
    "    for i2 in range(nR):\n",
    "        if pos_feat_f[i1,i2]<1:\n",
    "            pos_feat_f[i1,i2]=0\n",
    "        if neg_feat_f[i1,i2]<1:\n",
    "            neg_feat_f[i1,i2]=0\n",
    "print(' #pos = '+str(int(np.sum(pos_feat_f)/2)), ', #neg = '+str(int(np.sum(neg_feat_f)/2)))\n",
    "all_feat_f = pos_feat_f+neg_feat_f\n",
    "featid_f,featid_f_pos,featid_f_neg  = [],[],[]\n",
    "ii = -1\n",
    "for i1 in range(nR-1):\n",
    "    for i2 in range(i1+1,nR):\n",
    "        ii=ii+1\n",
    "        if all_feat_f[i1,i2]==1:\n",
    "            featid_f.append(ii)\n",
    "        if pos_feat_f[i1,i2]==1:\n",
    "            featid_f_pos.append(ii)\n",
    "        if neg_feat_f[i1,i2]==1:\n",
    "            featid_f_neg.append(ii)"
   ]
  },
  {
   "cell_type": "code",
   "execution_count": 6,
   "id": "db037914",
   "metadata": {},
   "outputs": [
    {
     "name": "stdout",
     "output_type": "stream",
     "text": [
      "Overlap positive feature #: 169\n",
      "Overlap negative feature #: 68\n"
     ]
    }
   ],
   "source": [
    "overlap_pos, overlap_neg = np.zeros((nR,nR)), np.zeros((nR,nR))\n",
    "\n",
    "for i in range(nR):\n",
    "    for j in range(nR):\n",
    "        if pos_feat_s[i,j] == 1 and pos_feat_f[i,j] == 1:\n",
    "            overlap_pos[i,j] = 1\n",
    "        else: \n",
    "            overlap_pos[i,j] = 0\n",
    "\n",
    "        if neg_feat_s[i,j] == 1 and neg_feat_f[i,j] == 1:\n",
    "            overlap_neg[i,j] = 1\n",
    "        else: \n",
    "            overlap_neg[i,j] = 0\n",
    "print('Overlap positive feature #: ' + str(int(np.sum(overlap_pos)/2)))\n",
    "print('Overlap negative feature #: ' + str(int(np.sum(overlap_neg)/2)))"
   ]
  },
  {
   "cell_type": "code",
   "execution_count": 7,
   "id": "762849d6",
   "metadata": {},
   "outputs": [
    {
     "name": "stdout",
     "output_type": "stream",
     "text": [
      "Selected 237 features\n"
     ]
    }
   ],
   "source": [
    "featid_pos = [i for i in featid_f_pos if i in featid_s_pos]\n",
    "featid_neg = [i for i in featid_f_neg if i in featid_s_neg]\n",
    "featid = np.append(featid_pos,featid_neg)\n",
    "print('Selected ' + str(len(featid)) +' features')"
   ]
  },
  {
   "cell_type": "code",
   "execution_count": 8,
   "id": "9ba09931",
   "metadata": {},
   "outputs": [
    {
     "name": "stdout",
     "output_type": "stream",
     "text": [
      "  model sherlock: brain selected feature shape (16, 237, 1894)\n",
      "  model FNL : brain selected feature shape (35, 237, 1341)\n"
     ]
    }
   ],
   "source": [
    "# select FCs in the brain data\n",
    "feat_sherlock = brain_sherlock[:,featid,:]\n",
    "feat_FNL = brain_FNL[:,featid,:]\n",
    "\n",
    "print('  model sherlock: brain selected feature shape '+str(feat_sherlock.shape))\n",
    "print('  model FNL : brain selected feature shape '+str(feat_FNL.shape))"
   ]
  },
  {
   "cell_type": "markdown",
   "id": "8eedeb49",
   "metadata": {},
   "source": [
    "# Process the brain and behavior for SVM"
   ]
  },
  {
   "cell_type": "code",
   "execution_count": 9,
   "id": "a68bde54",
   "metadata": {},
   "outputs": [
    {
     "name": "stdout",
     "output_type": "stream",
     "text": [
      "Reshape brain sherlock (237, 30304)\n",
      "Reshape brain FNL (237, 46935)\n",
      "Reshape beh sherlock (30304,)\n",
      "Reshape beh FNL (46935,)\n",
      "Combined brain (237, 77239)\n",
      "Combined beh (77239,)\n"
     ]
    }
   ],
   "source": [
    "nsubj_s = 16\n",
    "nsubj_f = 35\n",
    "\n",
    "s_feat = np.transpose(feat_sherlock,(1,0,2))\n",
    "s_feat = np.reshape(s_feat,(s_feat.shape[0],s_feat.shape[1]*s_feat.shape[2]))\n",
    "\n",
    "f_feat = np.transpose(feat_FNL,(1,0,2))\n",
    "f_feat = np.reshape(f_feat,(f_feat.shape[0],f_feat.shape[1]*f_feat.shape[2]))\n",
    "\n",
    "print('Reshape brain sherlock ' + str(s_feat.shape))\n",
    "print('Reshape brain FNL ' + str(f_feat.shape))\n",
    "\n",
    "s_arousal = []\n",
    "for sub in range(nsubj_s):\n",
    "    s_arousal.append(arousal_sherlock)\n",
    "s_arousal = np.asarray(s_arousal)\n",
    "s_arousal = np.reshape(s_arousal, (s_arousal.shape[0])*s_arousal.shape[1])\n",
    "\n",
    "f_arousal = []\n",
    "for sub in range(nsubj_f):\n",
    "    f_arousal.append(arousal_FNL)\n",
    "f_arousal = np.asarray(f_arousal)\n",
    "f_arousal = np.reshape(f_arousal, (f_arousal.shape[0])*f_arousal.shape[1])\n",
    "\n",
    "print('Reshape beh sherlock ' + str(s_arousal.shape))\n",
    "print('Reshape beh FNL ' + str(f_arousal.shape))\n",
    "\n",
    "# concatenate\n",
    "train_feat = np.concatenate([f_feat,s_feat],axis=1)\n",
    "train_beh = np.concatenate([f_arousal,s_arousal])\n",
    "\n",
    "print('Combined brain ' + str(train_feat.shape))\n",
    "print('Combined beh ' + str(train_beh.shape))"
   ]
  },
  {
   "cell_type": "code",
   "execution_count": 10,
   "id": "6d28d885",
   "metadata": {},
   "outputs": [
    {
     "name": "stdout",
     "output_type": "stream",
     "text": [
      "Number of TR removed: 0\n"
     ]
    }
   ],
   "source": [
    "# if several TRs are removed\n",
    "rmtr_train = []\n",
    "for tm in range(train_feat.shape[1]):\n",
    "    if np.all(np.isnan(train_feat[:,tm])):\n",
    "        rmtr_train.append(tm)\n",
    "rmtr_train = np.asarray(rmtr_train)\n",
    "if len(rmtr_train)>0:\n",
    "    train_feat = np.delete(train_feat,rmtr_train,1)\n",
    "    train_beh = np.delete(train_beh,rmtr_train,0)\n",
    "print('Number of TR removed: '+str(len(rmtr_train)))"
   ]
  },
  {
   "cell_type": "markdown",
   "id": "d5a275e2",
   "metadata": {},
   "source": [
    "# Load Merlin"
   ]
  },
  {
   "cell_type": "code",
   "execution_count": 11,
   "id": "edc34439",
   "metadata": {},
   "outputs": [
    {
     "name": "stdout",
     "output_type": "stream",
     "text": [
      "  model learn: brain entire feature shape (18, 7381, 996)\n"
     ]
    }
   ],
   "source": [
    "#load brain\n",
    "\n",
    "brain_merlin = mat73.loadmat(path + '/brain/' + 'Merlin' + '/a_output/FC/sliding-dynFeat.mat')['dynFeat']\n",
    "# zscore per feature\n",
    "brain_merlin = scipy.stats.zscore(brain_merlin,2,nan_policy='omit') \n",
    "print('  model learn: brain entire feature shape '+str(brain_merlin.shape))"
   ]
  },
  {
   "cell_type": "code",
   "execution_count": 12,
   "id": "5da894b3",
   "metadata": {},
   "outputs": [
    {
     "ename": "FileNotFoundError",
     "evalue": "[Errno 2] No such file or directory: '/Users/cablab/Desktop/AffectPrediction/data/beh/preprocessed/group_average/conv_slidingBeh/Merlin_arousal.mat'",
     "output_type": "error",
     "traceback": [
      "\u001b[0;31m---------------------------------------------------------------------------\u001b[0m",
      "\u001b[0;31mFileNotFoundError\u001b[0m                         Traceback (most recent call last)",
      "\u001b[0;32m~/opt/anaconda3/lib/python3.9/site-packages/scipy/io/matlab/_mio.py\u001b[0m in \u001b[0;36m_open_file\u001b[0;34m(file_like, appendmat, mode)\u001b[0m\n\u001b[1;32m     38\u001b[0m     \u001b[0;32mtry\u001b[0m\u001b[0;34m:\u001b[0m\u001b[0;34m\u001b[0m\u001b[0;34m\u001b[0m\u001b[0m\n\u001b[0;32m---> 39\u001b[0;31m         \u001b[0;32mreturn\u001b[0m \u001b[0mopen\u001b[0m\u001b[0;34m(\u001b[0m\u001b[0mfile_like\u001b[0m\u001b[0;34m,\u001b[0m \u001b[0mmode\u001b[0m\u001b[0;34m)\u001b[0m\u001b[0;34m,\u001b[0m \u001b[0;32mTrue\u001b[0m\u001b[0;34m\u001b[0m\u001b[0;34m\u001b[0m\u001b[0m\n\u001b[0m\u001b[1;32m     40\u001b[0m     \u001b[0;32mexcept\u001b[0m \u001b[0mOSError\u001b[0m \u001b[0;32mas\u001b[0m \u001b[0me\u001b[0m\u001b[0;34m:\u001b[0m\u001b[0;34m\u001b[0m\u001b[0;34m\u001b[0m\u001b[0m\n",
      "\u001b[0;31mFileNotFoundError\u001b[0m: [Errno 2] No such file or directory: '/Users/cablab/Desktop/AffectPrediction/data/beh/preprocessed/group_average/conv_slidingBeh/Merlin_arousal.mat'",
      "\nDuring handling of the above exception, another exception occurred:\n",
      "\u001b[0;31mFileNotFoundError\u001b[0m                         Traceback (most recent call last)",
      "\u001b[0;32m/var/folders/0f/kkgygd8n26v8_56rfq071_b80000gn/T/ipykernel_88168/2986883011.py\u001b[0m in \u001b[0;36m<module>\u001b[0;34m\u001b[0m\n\u001b[1;32m      1\u001b[0m \u001b[0;31m# load beh\u001b[0m\u001b[0;34m\u001b[0m\u001b[0;34m\u001b[0m\u001b[0m\n\u001b[0;32m----> 2\u001b[0;31m \u001b[0marousal_merlin\u001b[0m \u001b[0;34m=\u001b[0m \u001b[0mscipy\u001b[0m\u001b[0;34m.\u001b[0m\u001b[0mio\u001b[0m\u001b[0;34m.\u001b[0m\u001b[0mloadmat\u001b[0m\u001b[0;34m(\u001b[0m\u001b[0mpath\u001b[0m \u001b[0;34m+\u001b[0m \u001b[0;34m'/beh/preprocessed/group_average/conv_slidingBeh/Merlin_arousal.mat'\u001b[0m\u001b[0;34m)\u001b[0m\u001b[0;34m[\u001b[0m\u001b[0;34m'sliding_beh'\u001b[0m\u001b[0;34m]\u001b[0m\u001b[0;34m\u001b[0m\u001b[0;34m\u001b[0m\u001b[0m\n\u001b[0m\u001b[1;32m      3\u001b[0m \u001b[0marousal_merlin\u001b[0m \u001b[0;34m=\u001b[0m \u001b[0mnp\u001b[0m\u001b[0;34m.\u001b[0m\u001b[0msqueeze\u001b[0m\u001b[0;34m(\u001b[0m\u001b[0marousal_merlin\u001b[0m\u001b[0;34m)\u001b[0m\u001b[0;34m\u001b[0m\u001b[0;34m\u001b[0m\u001b[0m\n\u001b[1;32m      4\u001b[0m \u001b[0mprint\u001b[0m\u001b[0;34m(\u001b[0m\u001b[0;34m'model learn: merlin arousal shape'\u001b[0m \u001b[0;34m+\u001b[0m \u001b[0mstr\u001b[0m\u001b[0;34m(\u001b[0m\u001b[0marousal_merlin\u001b[0m\u001b[0;34m.\u001b[0m\u001b[0mshape\u001b[0m\u001b[0;34m)\u001b[0m\u001b[0;34m)\u001b[0m\u001b[0;34m\u001b[0m\u001b[0;34m\u001b[0m\u001b[0m\n",
      "\u001b[0;32m~/opt/anaconda3/lib/python3.9/site-packages/scipy/io/matlab/_mio.py\u001b[0m in \u001b[0;36mloadmat\u001b[0;34m(file_name, mdict, appendmat, **kwargs)\u001b[0m\n\u001b[1;32m    222\u001b[0m     \"\"\"\n\u001b[1;32m    223\u001b[0m     \u001b[0mvariable_names\u001b[0m \u001b[0;34m=\u001b[0m \u001b[0mkwargs\u001b[0m\u001b[0;34m.\u001b[0m\u001b[0mpop\u001b[0m\u001b[0;34m(\u001b[0m\u001b[0;34m'variable_names'\u001b[0m\u001b[0;34m,\u001b[0m \u001b[0;32mNone\u001b[0m\u001b[0;34m)\u001b[0m\u001b[0;34m\u001b[0m\u001b[0;34m\u001b[0m\u001b[0m\n\u001b[0;32m--> 224\u001b[0;31m     \u001b[0;32mwith\u001b[0m \u001b[0m_open_file_context\u001b[0m\u001b[0;34m(\u001b[0m\u001b[0mfile_name\u001b[0m\u001b[0;34m,\u001b[0m \u001b[0mappendmat\u001b[0m\u001b[0;34m)\u001b[0m \u001b[0;32mas\u001b[0m \u001b[0mf\u001b[0m\u001b[0;34m:\u001b[0m\u001b[0;34m\u001b[0m\u001b[0;34m\u001b[0m\u001b[0m\n\u001b[0m\u001b[1;32m    225\u001b[0m         \u001b[0mMR\u001b[0m\u001b[0;34m,\u001b[0m \u001b[0m_\u001b[0m \u001b[0;34m=\u001b[0m \u001b[0mmat_reader_factory\u001b[0m\u001b[0;34m(\u001b[0m\u001b[0mf\u001b[0m\u001b[0;34m,\u001b[0m \u001b[0;34m**\u001b[0m\u001b[0mkwargs\u001b[0m\u001b[0;34m)\u001b[0m\u001b[0;34m\u001b[0m\u001b[0;34m\u001b[0m\u001b[0m\n\u001b[1;32m    226\u001b[0m         \u001b[0mmatfile_dict\u001b[0m \u001b[0;34m=\u001b[0m \u001b[0mMR\u001b[0m\u001b[0;34m.\u001b[0m\u001b[0mget_variables\u001b[0m\u001b[0;34m(\u001b[0m\u001b[0mvariable_names\u001b[0m\u001b[0;34m)\u001b[0m\u001b[0;34m\u001b[0m\u001b[0;34m\u001b[0m\u001b[0m\n",
      "\u001b[0;32m~/opt/anaconda3/lib/python3.9/contextlib.py\u001b[0m in \u001b[0;36m__enter__\u001b[0;34m(self)\u001b[0m\n\u001b[1;32m    117\u001b[0m         \u001b[0;32mdel\u001b[0m \u001b[0mself\u001b[0m\u001b[0;34m.\u001b[0m\u001b[0margs\u001b[0m\u001b[0;34m,\u001b[0m \u001b[0mself\u001b[0m\u001b[0;34m.\u001b[0m\u001b[0mkwds\u001b[0m\u001b[0;34m,\u001b[0m \u001b[0mself\u001b[0m\u001b[0;34m.\u001b[0m\u001b[0mfunc\u001b[0m\u001b[0;34m\u001b[0m\u001b[0;34m\u001b[0m\u001b[0m\n\u001b[1;32m    118\u001b[0m         \u001b[0;32mtry\u001b[0m\u001b[0;34m:\u001b[0m\u001b[0;34m\u001b[0m\u001b[0;34m\u001b[0m\u001b[0m\n\u001b[0;32m--> 119\u001b[0;31m             \u001b[0;32mreturn\u001b[0m \u001b[0mnext\u001b[0m\u001b[0;34m(\u001b[0m\u001b[0mself\u001b[0m\u001b[0;34m.\u001b[0m\u001b[0mgen\u001b[0m\u001b[0;34m)\u001b[0m\u001b[0;34m\u001b[0m\u001b[0;34m\u001b[0m\u001b[0m\n\u001b[0m\u001b[1;32m    120\u001b[0m         \u001b[0;32mexcept\u001b[0m \u001b[0mStopIteration\u001b[0m\u001b[0;34m:\u001b[0m\u001b[0;34m\u001b[0m\u001b[0;34m\u001b[0m\u001b[0m\n\u001b[1;32m    121\u001b[0m             \u001b[0;32mraise\u001b[0m \u001b[0mRuntimeError\u001b[0m\u001b[0;34m(\u001b[0m\u001b[0;34m\"generator didn't yield\"\u001b[0m\u001b[0;34m)\u001b[0m \u001b[0;32mfrom\u001b[0m \u001b[0;32mNone\u001b[0m\u001b[0;34m\u001b[0m\u001b[0;34m\u001b[0m\u001b[0m\n",
      "\u001b[0;32m~/opt/anaconda3/lib/python3.9/site-packages/scipy/io/matlab/_mio.py\u001b[0m in \u001b[0;36m_open_file_context\u001b[0;34m(file_like, appendmat, mode)\u001b[0m\n\u001b[1;32m     15\u001b[0m \u001b[0;34m@\u001b[0m\u001b[0mcontextmanager\u001b[0m\u001b[0;34m\u001b[0m\u001b[0;34m\u001b[0m\u001b[0m\n\u001b[1;32m     16\u001b[0m \u001b[0;32mdef\u001b[0m \u001b[0m_open_file_context\u001b[0m\u001b[0;34m(\u001b[0m\u001b[0mfile_like\u001b[0m\u001b[0;34m,\u001b[0m \u001b[0mappendmat\u001b[0m\u001b[0;34m,\u001b[0m \u001b[0mmode\u001b[0m\u001b[0;34m=\u001b[0m\u001b[0;34m'rb'\u001b[0m\u001b[0;34m)\u001b[0m\u001b[0;34m:\u001b[0m\u001b[0;34m\u001b[0m\u001b[0;34m\u001b[0m\u001b[0m\n\u001b[0;32m---> 17\u001b[0;31m     \u001b[0mf\u001b[0m\u001b[0;34m,\u001b[0m \u001b[0mopened\u001b[0m \u001b[0;34m=\u001b[0m \u001b[0m_open_file\u001b[0m\u001b[0;34m(\u001b[0m\u001b[0mfile_like\u001b[0m\u001b[0;34m,\u001b[0m \u001b[0mappendmat\u001b[0m\u001b[0;34m,\u001b[0m \u001b[0mmode\u001b[0m\u001b[0;34m)\u001b[0m\u001b[0;34m\u001b[0m\u001b[0;34m\u001b[0m\u001b[0m\n\u001b[0m\u001b[1;32m     18\u001b[0m     \u001b[0;32mtry\u001b[0m\u001b[0;34m:\u001b[0m\u001b[0;34m\u001b[0m\u001b[0;34m\u001b[0m\u001b[0m\n\u001b[1;32m     19\u001b[0m         \u001b[0;32myield\u001b[0m \u001b[0mf\u001b[0m\u001b[0;34m\u001b[0m\u001b[0;34m\u001b[0m\u001b[0m\n",
      "\u001b[0;32m~/opt/anaconda3/lib/python3.9/site-packages/scipy/io/matlab/_mio.py\u001b[0m in \u001b[0;36m_open_file\u001b[0;34m(file_like, appendmat, mode)\u001b[0m\n\u001b[1;32m     43\u001b[0m             \u001b[0;32mif\u001b[0m \u001b[0mappendmat\u001b[0m \u001b[0;32mand\u001b[0m \u001b[0;32mnot\u001b[0m \u001b[0mfile_like\u001b[0m\u001b[0;34m.\u001b[0m\u001b[0mendswith\u001b[0m\u001b[0;34m(\u001b[0m\u001b[0;34m'.mat'\u001b[0m\u001b[0;34m)\u001b[0m\u001b[0;34m:\u001b[0m\u001b[0;34m\u001b[0m\u001b[0;34m\u001b[0m\u001b[0m\n\u001b[1;32m     44\u001b[0m                 \u001b[0mfile_like\u001b[0m \u001b[0;34m+=\u001b[0m \u001b[0;34m'.mat'\u001b[0m\u001b[0;34m\u001b[0m\u001b[0;34m\u001b[0m\u001b[0m\n\u001b[0;32m---> 45\u001b[0;31m             \u001b[0;32mreturn\u001b[0m \u001b[0mopen\u001b[0m\u001b[0;34m(\u001b[0m\u001b[0mfile_like\u001b[0m\u001b[0;34m,\u001b[0m \u001b[0mmode\u001b[0m\u001b[0;34m)\u001b[0m\u001b[0;34m,\u001b[0m \u001b[0;32mTrue\u001b[0m\u001b[0;34m\u001b[0m\u001b[0;34m\u001b[0m\u001b[0m\n\u001b[0m\u001b[1;32m     46\u001b[0m         \u001b[0;32melse\u001b[0m\u001b[0;34m:\u001b[0m\u001b[0;34m\u001b[0m\u001b[0;34m\u001b[0m\u001b[0m\n\u001b[1;32m     47\u001b[0m             raise OSError(\n",
      "\u001b[0;31mFileNotFoundError\u001b[0m: [Errno 2] No such file or directory: '/Users/cablab/Desktop/AffectPrediction/data/beh/preprocessed/group_average/conv_slidingBeh/Merlin_arousal.mat'"
     ]
    }
   ],
   "source": [
    "# load beh\n",
    "arousal_merlin = scipy.io.loadmat(path + '/beh/preprocessed/group_average/conv_slidingBeh/Merlin_arousal.mat')['sliding_beh']\n",
    "arousal_merlin = np.squeeze(arousal_merlin)\n",
    "print('model learn: merlin arousal shape' + str(arousal_merlin.shape))"
   ]
  },
  {
   "cell_type": "code",
   "execution_count": null,
   "id": "28f265cc",
   "metadata": {},
   "outputs": [],
   "source": [
    "# delete the first 16 TRs to match behavior with brain according to instructions on openneuro\n",
    "# https://openneuro.org/datasets/ds001110/versions/00003\n",
    "\n",
    "dynFC_test = brain_merlin[:,featid,16:]\n",
    "\n",
    "nanidx = []\n",
    "for ft in range(train_feat.shape[0]):\n",
    "    if np.any(np.isnan(train_feat[ft,:])):\n",
    "        nanidx.append(ft)\n",
    "for subj in range(dynFC_test.shape[0]):\n",
    "    for ft in range(dynFC_test.shape[1]):\n",
    "        if np.any(np.isnan(dynFC_test[subj,ft,:])):\n",
    "            nanidx.append(ft)\n",
    "\n",
    "nanidx = np.unique(nanidx)\n",
    "print('NaN = '+str(nanidx))\n",
    "\n",
    "if len(nanidx)>0:\n",
    "    train_feat = np.delete(train_feat,nanidx,0)\n",
    "    dynFC_test = np.delete(dynFC_test,nanidx,1)\n",
    "\n",
    "print('Number of nans in selected FC: '+str(len(nanidx)))\n",
    "print('Train Feat Shape: '+str(train_feat.shape))\n",
    "print('DynFC_test Shape: '+str(dynFC_test.shape))"
   ]
  },
  {
   "cell_type": "markdown",
   "id": "7bcc87f7",
   "metadata": {},
   "source": [
    "# Support Vector Regression with non-linear Kernel"
   ]
  },
  {
   "cell_type": "code",
   "execution_count": null,
   "id": "347125f9",
   "metadata": {},
   "outputs": [],
   "source": [
    "print('SVR prediction with model learned from FNL + Sherlock')\n",
    "print('  train feature   : '+str(train_feat.T.shape))\n",
    "print('  train arousal: '+str(train_beh.shape))\n",
    "\n",
    "clf = []\n",
    "clf = svm.SVR(kernel='rbf',max_iter=1000, gamma='auto')\n",
    "with warnings.catch_warnings():\n",
    "    warnings.filterwarnings(\"ignore\", category=ConvergenceWarning)\n",
    "    clf.fit(train_feat.T, train_beh)\n",
    "print('Training done!')"
   ]
  },
  {
   "cell_type": "code",
   "execution_count": null,
   "id": "264cb1d2",
   "metadata": {},
   "outputs": [],
   "source": [
    "test_nsubj = 18\n",
    "output_acc, output_eval = [], []\n",
    "for test_sub in range(test_nsubj):\n",
    "    test_feat = dynFC_test[test_sub, :, :]\n",
    "    test_behavior = arousal_merlin\n",
    "    \n",
    "    rmtr_test = []\n",
    "    for tm in range(test_feat.shape[1]):\n",
    "        if np.all(np.isnan(test_feat[:, tm])):\n",
    "            rmtr_test.append(tm)\n",
    "    rmtr_test = np.asarray(rmtr_test)\n",
    "    if len(rmtr_test) > 0:\n",
    "        test_feat = np.delete(test_feat, rmtr_test, 1)\n",
    "        test_behavior = np.delete(test_behavior, rmtr_test, 0)\n",
    "    \n",
    "    predicted = clf.predict(test_feat.T)\n",
    "    output_acc.append(predicted)\n",
    "    \n",
    "    # evaluate\n",
    "    pearsonr = scipy.stats.pearsonr(test_behavior, predicted)\n",
    "    mse = metrics.mean_squared_error(test_behavior, predicted)\n",
    "    rsq = metrics.r2_score(test_behavior, predicted)\n",
    "    output_eval.append([pearsonr[0], mse, rsq])\n",
    "    \n",
    "    print(' subj ' + str(test_sub + 1) + ' / ' + str(test_nsubj) + ': pearson r=' + str(\n",
    "            np.round(pearsonr[0], 3)), ', mse=' + str(np.round(mse, 3)) + ', rsq=' + str(np.round(rsq, 3)))\n",
    "    print('              (train) ft ' + str(train_feat.shape[1]) + ', beh ' + str(train_beh.shape[0]) +\n",
    "              ', (test) ft ' + str(test_feat.shape[1]) + ', beh ' + str(test_behavior.shape[0]))\n",
    "    \n",
    "output_acc, output_eval = np.asarray(output_acc), np.asarray(output_eval)"
   ]
  },
  {
   "cell_type": "code",
   "execution_count": null,
   "id": "277a93d2",
   "metadata": {},
   "outputs": [],
   "source": [
    "fig, axs = plt.subplots(1,3)\n",
    "axs[0].hist(output_eval[:,0])\n",
    "axs[0].set_title('Pearson correlation')\n",
    "axs[1].hist(output_eval[:,1])\n",
    "axs[1].set_title('MSE')\n",
    "axs[2].hist(output_eval[:,2])\n",
    "axs[2].set_title('r-squared')\n",
    "\n",
    "print(' pearson r = '+str(np.round(conv_z2r(np.mean(conv_r2z(output_eval[:,0]))),3)))\n",
    "print(' MSE       = '+str(np.round(np.mean(output_eval[:,1]),3)))\n",
    "print(' r-squared = '+str(np.round(np.mean(output_eval[:,2]),3)))"
   ]
  },
  {
   "cell_type": "code",
   "execution_count": null,
   "id": "42d017a0",
   "metadata": {},
   "outputs": [],
   "source": [
    "savepath = base_path + '/results/CPM/across/'\n",
    "result = {'acc':output_acc, 'eval':output_eval}\n",
    "if os.path.exists(savepath)==0:\n",
    "    os.makedirs(savepath)\n",
    "scipy.io.savemat(savepath+'overlap-Merlin_arousal.mat',result)"
   ]
  }
 ],
 "metadata": {
  "kernelspec": {
   "display_name": "Python 3 (ipykernel)",
   "language": "python",
   "name": "python3"
  },
  "language_info": {
   "codemirror_mode": {
    "name": "ipython",
    "version": 3
   },
   "file_extension": ".py",
   "mimetype": "text/x-python",
   "name": "python",
   "nbconvert_exporter": "python",
   "pygments_lexer": "ipython3",
   "version": "3.9.13"
  }
 },
 "nbformat": 4,
 "nbformat_minor": 5
}
